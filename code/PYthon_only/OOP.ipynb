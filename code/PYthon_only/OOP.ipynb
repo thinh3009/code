{
 "cells": [
  {
   "cell_type": "markdown",
   "metadata": {},
   "source": [
    "\n",
    " class car():\n",
    "     #class variable \n",
    "     tax=1 #bien tax nam o ngoai khong nam trong ham nao la variable class co the goi o bat ki dau\n",
    "     carNumber=0\n",
    "     def __init__(self,brand,model,public,price):\n",
    "         self.brand=brand\n",
    "         self.model=model\n",
    "         self.public=public\n",
    "         self.price=price\n",
    "     def Brand(self):#tra ve ten hang xe\n",
    "         return self.brand\n",
    "     def values(self):\n",
    "         '''return self.price * car.tax'''#goi bien o ngoai ham\n",
    "         return self.price * self.tax#goi bien trong ham __init__\n",
    " #goi class variable o ngoai\n",
    " #car.tax=2\n",
    " #instance\n",
    " car1 = car(\"viet nam\",\"Fadil\",2019,9000)\n",
    " car2 = car(\"italy\",\"bugati divo\",20200,15000)\n",
    " car2.tax=2#thay doi gia tri tax cua car2\n",
    " print(car1.model,car1.values(),\"$\")\n",
    " print(car2.model,car2.values(),\"$\")\n",
    " print(car.tax,car1.tax,car2.tax)\n",
    "print(\"*\"*30)\n",
    "\n",
    "#class\n",
    "class car():\n",
    "    #class variable \n",
    "    tax=1#bien tax nam o ngoai khong nam trong ham nao la variable class co the goi o bat ki dau\n",
    "    carNumber=0\n",
    "    def __init__(self,brand,model,public,price):\n",
    "        self.brand=brand\n",
    "        self.model=model\n",
    "        self.public=public\n",
    "        self.price=price\n",
    "        car.carNumber+=1\n",
    "    #regular menthod\n",
    "    def values(self):\n",
    "        return (self.price * self.tax)\n",
    "#class method: co the goi tu class car hoac instance car\n",
    "    @classmethod\n",
    "    def set_tax(cls):\n",
    "        cls.tax=1.5\n",
    "#class method voi string \n",
    "    @classmethod\n",
    "    def chuoi(cls,car_string):\n",
    "        brand,model,public,price=car_string.split('-')#split tach chu bo dau gach\n",
    "        public=int(public)\n",
    "        price=int(price)\n",
    "    #class goi dc luon ca __init__,(cls dai dien cho __init__)\n",
    "        return cls(brand,model,public,price)\n",
    "    #static method\n",
    "    @staticmethod\n",
    "    def check(price):\n",
    "        if price <=1000:\n",
    "            return \"re vl!!\"\n",
    "        else:\n",
    "            return \"dat qua!!\"\n",
    "car_temp=\"germary-mecG63-2020-2000\"\n",
    "#instance\n",
    "car1 = car(\"viet nam\",\"Fadil\",2019,9000)\n",
    "car2 = car(\"italy\",\"bugati divo\",20200,15000)\n",
    "car3 = car.chuoi(car_temp)\n",
    "car1.set_tax()\n",
    "print(car.tax)\n",
    "print(car2.values())\n",
    "print(car3.brand,car3.model,car3.public,car3.price,\"$\")\n",
    "print(car1.check(car1.price))\n",
    "#goi tu class\n",
    "print(car.check(car2.price))\n",
    "print(car.check(car3.price))"
   ]
  },
  {
   "cell_type": "code",
   "execution_count": 1,
   "metadata": {},
   "outputs": [
    {
     "name": "stdout",
     "output_type": "stream",
     "text": [
      "--> thien nguyen\n",
      "--> my nguyen\n"
     ]
    }
   ],
   "source": [
    "#ke thua\n",
    "class employee():\n",
    "    salary=1.5\n",
    "    def __init__(self,first,last,pay):\n",
    "        self.first=first\n",
    "        self.last=last\n",
    "        self.email=first + '-'+last+'@gmail.com'\n",
    "        self.pay=pay\n",
    "    def fullname(self):\n",
    "        return '{} {}'.format(self.first,self.last)\n",
    "    def apply_salary(self):\n",
    "        self.pay=int(self.pay*self.salary)\n",
    "        return self.pay\n",
    "#tao class moi ke thua tu class cu\n",
    "class develop(employee):\n",
    "    salary=1.02\n",
    "    def __init__(self, first, last, pay,program):\n",
    "        #super la ke thua tu class tren\n",
    "        super().__init__(first, last, pay)\n",
    "        self.program=program\n",
    "class manager(employee):\n",
    "    salary=2\n",
    "    def __init__(self, first, last, pay,listEmployee=None):\n",
    "        super().__init__(first, last, pay)\n",
    "        if listEmployee==None:\n",
    "            self.listEmployee=[]\n",
    "        else:\n",
    "            self.listEmployee=listEmployee\n",
    "    def add_employee(self,emp):\n",
    "        if emp not in self.listEmployee:\n",
    "            self.listEmployee.append(emp)\n",
    "    def remove_employee(self,emp):\n",
    "        if emp in self.listEmployee:\n",
    "            self.listEmployee.remove(emp)\n",
    "    def print_employee(self):\n",
    "        for emp in self.listEmployee:\n",
    "            print('-->',emp.fullname())\n",
    "class thuky(employee):\n",
    "    salary=2\n",
    "    def __init__(self, first, last, pay,job):\n",
    "        super().__init__(first, last, pay)\n",
    "        self.job=job\n",
    "\n",
    "dev1=develop(\"thinh\", \"bui\", 100, \"python\")\n",
    "dev2=develop(\"thien\", \"nguyen\", 200, 'C++')\n",
    "tk=thuky(\"my\", 'nguyen', 200, 'quan ly')\n",
    "man1=manager(\"hung\", \"bui\", 500,[dev1,dev2])\n",
    "man1.remove_employee(dev1)\n",
    "man1.add_employee(tk)\n",
    "man1.print_employee()\n",
    "\n"
   ]
  },
  {
   "cell_type": "code",
   "execution_count": null,
   "metadata": {},
   "outputs": [],
   "source": [
    "class employee:\n",
    "    salary=1.04\n",
    "    def __init__(self,first,last,pay):\n",
    "        self.first=first\n",
    "        self.last=last\n",
    "        self.mail=first+'-'+last+'@gmail.com'\n",
    "        self.pay=pay\n",
    "    def full_name(self):\n",
    "        return'{}{}'.format(self.first,self.last)\n",
    "    def apply_salary(self):\n",
    "        self.pay=int(self.pay*self.apply_salary)\n",
    "        return self.pay\n",
    "    def __repr__(self):\n",
    "        return f\"employee {self.first},{self.last},{self.pay}\"\n",
    "    def __str__(self):\n",
    "        return f\"{self.full_name()} - {self.mail}\"\n",
    "emp1=employee('thinh', 'bui', 3000)\n",
    "# print(str(emp1))\n",
    "# print(repr(emp1))\n",
    "# import datetime \n",
    "# today=datetime.datetime.now()\n",
    "# print(str(today))\n",
    "# print(repr(today))\n",
    "emp2=employee('hung', 'nguyen', 2000)\n"
   ]
  },
  {
   "cell_type": "code",
   "execution_count": 23,
   "metadata": {},
   "outputs": [
    {
     "name": "stdout",
     "output_type": "stream",
     "text": [
      "vinfast luxA\n",
      "vinfast\n",
      "bugati\n",
      "chiron\n",
      "bugati chiron\n",
      "delete fullname!!\n",
      "None None\n",
      "bmw i8\n"
     ]
    }
   ],
   "source": [
    "class car:\n",
    "    def __init__(self,brand,model):\n",
    "        self.brand=brand\n",
    "        self.model=model\n",
    "\n",
    "    @property#dua full_name thanh 1 thuoc tinh\n",
    "    def full_name(self):\n",
    "        return f'{self.brand} {self.model}'\n",
    "    #setter tan dung tu full_name\n",
    "    @full_name.setter\n",
    "    def full_name(self, full_name):\n",
    "        brand, model =full_name.split(\" \")\n",
    "        self.brand=brand\n",
    "        self.model=model\n",
    "    #deleter\n",
    "    @full_name.deleter\n",
    "    def full_name(self):\n",
    "        self.brand= None\n",
    "        self.model=None\n",
    "        print(\"delete fullname!!\")\n",
    "xe=car(\"vinfast\",\"luxA\")\n",
    "print(xe.full_name)\n",
    "print(xe.brand)\n",
    "#khai bao bien moi\n",
    "xe.full_name='bugati chiron'\n",
    "print(xe.brand)\n",
    "print(xe.model)\n",
    "print(xe.full_name)\n",
    "del xe.full_name\n",
    "print(xe.brand,xe.model)\n",
    "\n"
   ]
  },
  {
   "cell_type": "code",
   "execution_count": 11,
   "metadata": {},
   "outputs": [
    {
     "name": "stdout",
     "output_type": "stream",
     "text": [
      "{'ten': 'sieu nhan gao', 'vukhi': 'kiem', 'mausac': 'do'}\n",
      "do\n",
      "1,2,3, sieu nhan gao\n"
     ]
    }
   ],
   "source": [
    "#method\n",
    "class sieu_nhan:\n",
    "    \n",
    "    def __init__(self,ten,vukhi,mausac):\n",
    "        self.ten=ten\n",
    "        self.vukhi=vukhi\n",
    "        self.mausac=mausac\n",
    "    #thay doi gia tri\n",
    "    @classmethod\n",
    "    def from_string(cls,s): #thuong phuong thuc co ten from\n",
    "        lst=s.split('-')\n",
    "        new_list=[st.strip() for st in lst]#strip xoa khoang trang\n",
    "        ten,vukhi,mausac=new_list\n",
    "        return cls(ten,vukhi,mausac)\n",
    "    #ko thay doi gia tri\n",
    "    @staticmethod\n",
    "    def bien_hinh():\n",
    "        suc_manh=50\n",
    "        print(\"1,2,3, sieu nhan gao\")\n",
    "        \n",
    "\n",
    "infr_string='sieu nhan gao - kiem - do'\n",
    "sieunhanA=sieu_nhan.from_string(infr_string)\n",
    "print(sieunhanA.__dict__)\n",
    "print(sieunhanA.mausac)\n",
    "sieunhanA.bien_hinh()\n"
   ]
  },
  {
   "cell_type": "code",
   "execution_count": 38,
   "metadata": {},
   "outputs": [
    {
     "name": "stdout",
     "output_type": "stream",
     "text": [
      " chan dai\n",
      "tay gay\n",
      "dau nho\n",
      "chan to-tay nhola bi suy dinh duong\n",
      " chan dai tay gay\n",
      " chan dai-tay gaybi tai nan\n"
     ]
    }
   ],
   "source": [
    "#getter,setter,deleter\n",
    "class Nguoi:\n",
    "    def __init__(self,chan,tay,dau):\n",
    "        self.chan=chan\n",
    "        self.tay=tay\n",
    "        self.dau=dau\n",
    "        self.than=chan+'-'+tay+'la bi suy dinh duong'\n",
    "    \n",
    "    def benh1(self):\n",
    "        return '{} {}'.format(self.chan,self.tay)\n",
    "    @property#bien benh2 thanh thuoc tinh (getter)\n",
    "    def benh2(self):\n",
    "        return self.chan + '-' + self.tay+'bi tai nan'\n",
    " \n",
    "nguoi_1=Nguoi('chan to','tay nho','dau nho')\n",
    "nguoi_1.chan=' chan dai'\n",
    "nguoi_1.tay='tay gay'\n",
    "\n",
    "print(nguoi_1.chan)\n",
    "print(nguoi_1.tay)\n",
    "print(nguoi_1.dau)\n",
    "print(nguoi_1.than)\n",
    "print(nguoi_1.benh1())\n",
    "#muon thay doi benh phai tao 1 ham moi \n",
    "print(nguoi_1.benh2)\n",
    "\n"
   ]
  },
  {
   "cell_type": "code",
   "execution_count": 66,
   "metadata": {},
   "outputs": [
    {
     "name": "stdout",
     "output_type": "stream",
     "text": [
      "chan ngan-tay congla bi suy dinh duong\n",
      "nho gay\n"
     ]
    }
   ],
   "source": [
    "#setter\n",
    "class Nguoi:\n",
    "    def __init__(self,chan,tay):\n",
    "        self.chan=chan\n",
    "        self.tay=tay\n",
    "        self.than=chan+'-'+tay+'la bi suy dinh duong'\n",
    "    @property\n",
    "    def benh1(self):\n",
    "        return '{} {}'.format(self.chan,self.tay)\n",
    "    @benh1.setter\n",
    "    def benh1(self,benh_moi):\n",
    "        taymoi,chanmoi=benh_moi.split()\n",
    "        self.tay=taymoi\n",
    "        self.chan=chanmoi \n",
    "nguoi_1=Nguoi(\"chan ngan\",'tay cong')\n",
    "\n",
    "nguoi_1.benh1=' gay nho'\n",
    "# nguoi_1.benh1=' chan ngan tay dai'\n",
    "print(nguoi_1.than)\n",
    "print(nguoi_1.benh1)"
   ]
  },
  {
   "cell_type": "code",
   "execution_count": 24,
   "metadata": {},
   "outputs": [
    {
     "name": "stdout",
     "output_type": "stream",
     "text": [
      "bui\n",
      "1.04\n"
     ]
    }
   ],
   "source": [
    "#tinh dong goi(private,public,protected)\n",
    "class employee:\n",
    "    #2 dau gach duoi la private\n",
    "    __salary=1.04\n",
    "    def __init__(self,first,last,pay):\n",
    "        self.first=first\n",
    "        self.last=last\n",
    "        self.mail=first+'-'+last+'@gmail.com'\n",
    "    def full_name(self):\n",
    "        return '{} {}'.format(self.first,self.last)\n",
    "    def app_salary(self):\n",
    "        self.pay=int(self.pay*self.salary)\n",
    "        return self.pay\n",
    "    #muon lay tu private phai tao ham\n",
    "    def cSalary(self):\n",
    "        return self.__salary\n",
    "emp1=employee('bui','thinh',400)\n",
    "print(emp1.first)\n",
    "#private ko the in ra dc\n",
    "#print(emp1.__salary)\n",
    "print(emp1.cSalary())\n",
    "\n"
   ]
  },
  {
   "cell_type": "code",
   "execution_count": 25,
   "metadata": {},
   "outputs": [
    {
     "name": "stdout",
     "output_type": "stream",
     "text": [
      "bui\n",
      "1.04\n"
     ]
    }
   ],
   "source": [
    "#tinh dong goi(private,public,protected)\n",
    "class employee:\n",
    "    #1 dau gach duoi la protected\n",
    "    _salary=1.04\n",
    "    def __init__(self,first,last,pay):\n",
    "        self.first=first\n",
    "        self.last=last\n",
    "        self.mail=first+'-'+last+'@gmail.com'\n",
    "    def full_name(self):\n",
    "        return '{} {}'.format(self.first,self.last)\n",
    "    def app_salary(self):\n",
    "        self.pay=int(self.pay*self.salary)\n",
    "        return self.pay\n",
    "    \n",
    "emp1=employee('bui','thinh',400)\n",
    "print(emp1.first)\n",
    "#protected co the in ra dc\n",
    "print(emp1._salary)\n"
   ]
  },
  {
   "cell_type": "code",
   "execution_count": 34,
   "metadata": {},
   "outputs": [
    {
     "name": "stdout",
     "output_type": "stream",
     "text": [
      "t la nam\n",
      "t la nu\n"
     ]
    }
   ],
   "source": [
    "#tinh da hinh\n",
    "class Nam:\n",
    "    def __init__(self,ten,mssv):\n",
    "        self.ten=ten\n",
    "        self.mssv=mssv\n",
    "        \n",
    "    def xinchao(self):\n",
    "        print('t la nam')\n",
    "class Nu:\n",
    "    def __init__(self,ten,mssv):\n",
    "        self.ten=ten\n",
    "        self.mssv=mssv\n",
    "    def xinchao(self):\n",
    "        print('t la nu')\n",
    "#da hinh 1 ham ra nhieu ket qua\n",
    "def school(Nam):Nam.xinchao()\n",
    "namsinh=Nam('thinh','20h11')\n",
    "nusinh=Nu('vy','20h12')\n",
    "#in ra man hinh khi dung da hinh\n",
    "# x=namsinh.xinchao()\n",
    "# y=nusinh.xinchao()\n",
    "school(namsinh)\n",
    "school(nusinh)"
   ]
  }
 ],
 "metadata": {
  "kernelspec": {
   "display_name": "Python 3.9.7 64-bit",
   "language": "python",
   "name": "python3"
  },
  "language_info": {
   "codemirror_mode": {
    "name": "ipython",
    "version": 3
   },
   "file_extension": ".py",
   "mimetype": "text/x-python",
   "name": "python",
   "nbconvert_exporter": "python",
   "pygments_lexer": "ipython3",
   "version": "3.9.7"
  },
  "orig_nbformat": 4,
  "vscode": {
   "interpreter": {
    "hash": "7d5f5c71c4810c40ae88a1275a7765d04bf6bc35d3a9e8b3e0017881a333275e"
   }
  }
 },
 "nbformat": 4,
 "nbformat_minor": 2
}
