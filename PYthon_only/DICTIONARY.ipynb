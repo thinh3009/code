{
 "cells": [
  {
   "cell_type": "code",
   "execution_count": 3,
   "metadata": {},
   "outputs": [
    {
     "name": "stdout",
     "output_type": "stream",
     "text": [
      "{'tung': 1.56, 'tuan': 1.7, 'linh': 1.7}\n",
      "{'tung': 1.45, 'ling': 1.56}\n",
      "1.45\n"
     ]
    }
   ],
   "source": [
    "d={'tung':1.56,'tuan':1.70,'linh':1.70}\n",
    "d2={'tung':1.57,'tung':1.45,'ling':1.56}\n",
    "print(d)\n",
    "print(d2)\n",
    "print(d2['tung'])\n"
   ]
  },
  {
   "cell_type": "code",
   "execution_count": 4,
   "metadata": {},
   "outputs": [
    {
     "name": "stdout",
     "output_type": "stream",
     "text": [
      "{'tung': 2.45, 'tuan': 1.7, 'linh': 1.7}\n"
     ]
    }
   ],
   "source": [
    "#thay doi gia tri key\n",
    "d['tung']=2.45\n",
    "print(d)"
   ]
  },
  {
   "cell_type": "code",
   "execution_count": 5,
   "metadata": {},
   "outputs": [
    {
     "name": "stdout",
     "output_type": "stream",
     "text": [
      "{'tung': 2.45, 'tuan': 1.7, 'linh': 1.7, 'nam': 1.9}\n"
     ]
    }
   ],
   "source": [
    "#them phan tu\n",
    "d[\"nam\"]=1.90\n",
    "print(d)"
   ]
  },
  {
   "cell_type": "code",
   "execution_count": 6,
   "metadata": {},
   "outputs": [
    {
     "name": "stdout",
     "output_type": "stream",
     "text": [
      "{'tung': 2.45, 'tuan': 1.7, 'linh': 1.7}\n"
     ]
    }
   ],
   "source": [
    "#xoa phan tu\n",
    "del d['nam']\n",
    "print(d)"
   ]
  },
  {
   "cell_type": "code",
   "execution_count": 7,
   "metadata": {},
   "outputs": [
    {
     "ename": "NameError",
     "evalue": "name 'd' is not defined",
     "output_type": "error",
     "traceback": [
      "\u001b[1;31m---------------------------------------------------------------------------\u001b[0m",
      "\u001b[1;31mNameError\u001b[0m                                 Traceback (most recent call last)",
      "\u001b[1;32mc:\\Users\\buidu\\OneDrive\\Máy tính\\code2\\PYthon_only\\DICTIONARY.ipynb Cell 5\u001b[0m line \u001b[0;36m3\n\u001b[0;32m      <a href='vscode-notebook-cell:/c%3A/Users/buidu/OneDrive/M%C3%A1y%20t%C3%ADnh/code2/PYthon_only/DICTIONARY.ipynb#W4sZmlsZQ%3D%3D?line=0'>1</a>\u001b[0m \u001b[39m#xoa ca dics\u001b[39;00m\n\u001b[0;32m      <a href='vscode-notebook-cell:/c%3A/Users/buidu/OneDrive/M%C3%A1y%20t%C3%ADnh/code2/PYthon_only/DICTIONARY.ipynb#W4sZmlsZQ%3D%3D?line=1'>2</a>\u001b[0m \u001b[39mdel\u001b[39;00m d\n\u001b[1;32m----> <a href='vscode-notebook-cell:/c%3A/Users/buidu/OneDrive/M%C3%A1y%20t%C3%ADnh/code2/PYthon_only/DICTIONARY.ipynb#W4sZmlsZQ%3D%3D?line=2'>3</a>\u001b[0m \u001b[39mprint\u001b[39m(d)\n",
      "\u001b[1;31mNameError\u001b[0m: name 'd' is not defined"
     ]
    }
   ],
   "source": [
    "#xoa ca dics\n",
    "del d\n",
    "print(d)"
   ]
  },
  {
   "cell_type": "code",
   "execution_count": 8,
   "metadata": {},
   "outputs": [
    {
     "name": "stdout",
     "output_type": "stream",
     "text": [
      "2\n"
     ]
    }
   ],
   "source": [
    "#tra ve so phan tu dics\n",
    "print(len(d2))"
   ]
  },
  {
   "cell_type": "markdown",
   "metadata": {},
   "source": [
    "* Bai tap\n"
   ]
  },
  {
   "cell_type": "code",
   "execution_count": 14,
   "metadata": {},
   "outputs": [
    {
     "name": "stdout",
     "output_type": "stream",
     "text": [
      "dang nhap thanh cong\n",
      "['user1', 'user2', 'user3', 'user4', 'user5', 'user6', 'user7', 'user8', 'user9', 'user10']\n",
      "['123456', '123456', '123456', '123456', '123456', '123456', '123456', '123456', '123456', '123456']\n"
     ]
    }
   ],
   "source": [
    "user_pass={\n",
    "    'user1':'123456',\n",
    "    'user2':'123456',\n",
    "    'user3':'123456',\n",
    "    'user4':'123456',\n",
    "    'user5':'123456',\n",
    "    'user6':'123456',\n",
    "    'user7':'123456',\n",
    "    'user8':'123456',\n",
    "    'user9':'123456',\n",
    "    'user10':'123456'\n",
    "\n",
    "}\n",
    "username=input('nhap username: ')\n",
    "pw=input(\"nhap pass: \")\n",
    "if username not in user_pass:\n",
    "    print('User khong ton tai!')\n",
    "else:\n",
    "    if user_pass[username]!=pw:\n",
    "        print('sai pass!!')\n",
    "    else:\n",
    "        print(\"dang nhap thanh cong\")\n",
    "        lst_user=[]\n",
    "        lst_pass=[]\n",
    "        for i in user_pass:\n",
    "            lst_user.append(i)\n",
    "            lst_pass.append(user_pass[i])\n",
    "        print(lst_user)\n",
    "        print(lst_pass)\n"
   ]
  },
  {
   "cell_type": "code",
   "execution_count": 28,
   "metadata": {},
   "outputs": [
    {
     "name": "stdout",
     "output_type": "stream",
     "text": [
      "['A', 'B', 'C', 'D', 'E', 'F', 'G', 'H', 'I', 'J', 'K', 'L', 'M', 'N', 'O', 'P', 'Q', 'R', 'S', 'T', 'U', 'V', 'W', 'X', 'Y', 'Z']\n",
      "['1', '2', '3', '2', '1', '4', '2', '4', '1', '8', '5', '1', '3', '1', '1', '3', '10', '1', '1', '1', '1', '4', '4', '8', '4', '10']\n",
      "chuoi ky tu sau tach:  A B C D E F G H I J K L M N O P Q R S T U V W X Y Z\n",
      "chuoi so sau khi tach:  1 2 3 2 1 4 2 4 1 8 5 1 3 1 1 3 10 1 1 1 1 4 4 8 4 10\n",
      "86\n",
      "UNIVERSITY OF TECHNOLOGY AND EDUCATION\n",
      " 1114111114 14 1134111124 112 121311111\n"
     ]
    }
   ],
   "source": [
    "dict_01 = {\n",
    "    \"A\":1,\"B\":2,\"C\":3,\"D\":2,\"E\":1,\"F\":4,\"G\":2,\n",
    "    \"H\":4,\"I\":1,\"J\":8,\"K\":5,\"L\":1,\"M\":3,\"N\":1,\n",
    "    \"O\":1,\"P\":3,\"Q\":10,\"R\":1,\"S\":1,\"T\":1,\"U\":1,\n",
    "    \"V\":4,\"W\":4,\"X\":8,\"Y\":4,\"Z\":10\n",
    "}\n",
    "str1='University of Technology and Education'\n",
    "lst_chu=[]\n",
    "lst_so=[]\n",
    "for i in dict_01:\n",
    "    lst_chu.append(i)\n",
    "    lst_so.append(str(dict_01[i]))\n",
    "print(lst_chu)\n",
    "print(lst_so)\n",
    "#chuyen list sang chuoi xuat ra dep hon\n",
    "a=\" \".join(lst_chu)\n",
    "print('chuoi ky tu sau tach: ',a)\n",
    "b=\" \".join(lst_so)\n",
    "print('chuoi so sau khi tach: ',b)\n",
    "\n",
    "sum=0\n",
    "for i in dict_01:\n",
    "    sum=sum+dict_01[i]\n",
    "print(sum)\n",
    "\n",
    "#chuyen doi chuoi sang chu hoa\n",
    "str2=str1.upper()\n",
    "print(str2)\n",
    "#cong chuoi\n",
    "str3=\" \"\n",
    "for k in str2:\n",
    "    if k==\" \":\n",
    "        str3=str3+k\n",
    "    else:\n",
    "        str3=str3+str(dict_01[k])\n",
    "print(str3)"
   ]
  },
  {
   "cell_type": "code",
   "execution_count": 29,
   "metadata": {},
   "outputs": [
    {
     "name": "stdout",
     "output_type": "stream",
     "text": [
      "<class 'list'>\n"
     ]
    }
   ],
   "source": [
    "d=[{\"name\":\"Tuan\",\"phone\":\"555-1414\",\"email\":\"galailaptrinh@gmail.com\"},\n",
    "    {\"name\":\"Hung\",\"phone\":\"555-1618\",\"email\":\"galaixapxinh@gmail.com\"},\n",
    "    {\"name\":\"Trung\",\"phone\":\"555-3141\",\"email\":\"\"},\n",
    "    {\"name\":\"Hoang\",\"phone\":\"555-2718\",\"email\":\"loli@gmail.com\"},\n",
    "]\n",
    "print(type(d))"
   ]
  },
  {
   "cell_type": "code",
   "execution_count": 31,
   "metadata": {},
   "outputs": [
    {
     "name": "stdout",
     "output_type": "stream",
     "text": [
      "{'name': 'Tuan', 'phone': '555-1414', 'email': 'galailaptrinh@gmail.com'}\n",
      "<class 'dict'>\n",
      "{'name': 'Hung', 'phone': '555-1618', 'email': 'galaixapxinh@gmail.com'}\n",
      "<class 'dict'>\n",
      "{'name': 'Trung', 'phone': '555-3141', 'email': ''}\n",
      "<class 'dict'>\n",
      "{'name': 'Hoang', 'phone': '555-2718', 'email': 'loli@gmail.com'}\n",
      "<class 'dict'>\n"
     ]
    }
   ],
   "source": [
    "d=[{\"name\":\"Tuan\",\"phone\":\"555-1414\",\"email\":\"galailaptrinh@gmail.com\"},\n",
    "    {\"name\":\"Hung\",\"phone\":\"555-1618\",\"email\":\"galaixapxinh@gmail.com\"},\n",
    "    {\"name\":\"Trung\",\"phone\":\"555-3141\",\"email\":\"\"},\n",
    "    {\"name\":\"Hoang\",\"phone\":\"555-2718\",\"email\":\"loli@gmail.com\"},\n",
    "]\n",
    "for i in d:\n",
    "    print(i)\n",
    "    print(type(i))"
   ]
  },
  {
   "cell_type": "code",
   "execution_count": 41,
   "metadata": {},
   "outputs": [
    {
     "name": "stdout",
     "output_type": "stream",
     "text": [
      "\n",
      "\n",
      "name:  Hung\n",
      "phone:  555-1618\n",
      "mail:  galaixapxinh@gmail.com\n",
      "\n",
      "\n",
      "name:  Hoang\n",
      "phone:  555-2718\n",
      "mail:  loli@gmail.com\n",
      "\n",
      "\n",
      "name:  Trung\n",
      "phone:  555-3141\n",
      "mail:  \n"
     ]
    }
   ],
   "source": [
    "for i in d:\n",
    "    phone=i['phone']\n",
    "    if phone[-1]=='8':\n",
    "        show=i['name']\n",
    "        phone_show=i['phone']\n",
    "        email_show=i['email']\n",
    "        print('\\n')\n",
    "        print('name: ',show)\n",
    "        print('phone: ',phone_show)\n",
    "        print('mail: ',email_show)\n",
    "#kiem tra ten khong co mail\n",
    "for j in d:\n",
    "    if j['email']==\"\":\n",
    "        name_show=j['name']\n",
    "        phone=j['phone']\n",
    "        mail=j['email']\n",
    "        print('\\n')\n",
    "        print('name: ',name_show)\n",
    "        print('phone: ',phone)\n",
    "        print('mail: ',mail)"
   ]
  },
  {
   "cell_type": "code",
   "execution_count": 8,
   "metadata": {},
   "outputs": [
    {
     "name": "stdout",
     "output_type": "stream",
     "text": [
      "Name not found.\n",
      "Name not found.\n",
      "\n",
      "\n",
      "name:  Tuan\n",
      "phone:  555-1414\n",
      "mail:  galailaptrinh@gmail.com\n",
      "Name not found.\n",
      "Name not found.\n"
     ]
    }
   ],
   "source": [
    "d=[{\"name\":\"Tuan\",\"phone\":\"555-1414\",\"email\":\"galailaptrinh@gmail.com\"},\n",
    "    {\"name\":\"Hung\",\"phone\":\"555-1618\",\"email\":\"galaixapxinh@gmail.com\"},\n",
    "    {\"name\":\"Trung\",\"phone\":\"555-3141\",\"email\":\"\"},\n",
    "    {\"name\":\"Hoang\",\"phone\":\"555-2718\",\"email\":\"loli@gmail.com\"},\n",
    "]\n",
    "while True:\n",
    "    name = input('nhap ten can tim: ')\n",
    "    for i in d:\n",
    "        if i['name'] == name:\n",
    "            print('\\n')\n",
    "            print('name: ', i['name'])\n",
    "            print('phone: ', i['phone'])\n",
    "            print('mail: ', i['email'])\n",
    "            break\n",
    "        else:\n",
    "            print(\"Name not found.\")"
   ]
  },
  {
   "cell_type": "markdown",
   "metadata": {},
   "source": [
    "* cach1"
   ]
  },
  {
   "cell_type": "code",
   "execution_count": 13,
   "metadata": {},
   "outputs": [
    {
     "name": "stdout",
     "output_type": "stream",
     "text": [
      "title:  Android App Development\n",
      "Author:  Thanh Tran\n",
      "Publisher:  VNU\n",
      "Price:  25000\n",
      "year_publish:  2017\n",
      "title:  Android App Development\n",
      "Author:  Thanh Tran\n",
      "Publisher:  VNU\n",
      "Price:  25000\n",
      "year_publish:  2017\n",
      "Xin cam on da su dung!!\n"
     ]
    }
   ],
   "source": [
    "\n",
    "#ex4: viết chương trình tìm kiếm sách \n",
    "mybooks=[\n",
    "{\"Title\": \"Android App Development\", \"Author\": \"Thanh Tran\",\n",
    "\"Publisher\": \"VNU\", \"Price\": \"25000\",\"Published_Year\": \"2017\"},\n",
    "{\"Title\": \"Python\", \"Author\": \"Thanh Tran\",\n",
    "\"Publisher\": \"VNU\", \"Price\": \"23000\", \"Published_Year\": \"2019\"},\n",
    "{\"Title\": \"JavaScript\", \"Author\": \"Pham Dieu\",\n",
    "\"Publisher\": \"SSS\", \"Price\": \"38000\",\"Published_Year\": \"2018\"},\n",
    "{\"Title\": \"HTML5\", \"Author\": \"Man Nhi\",\n",
    "\"Publisher\": \"HCM\", \"Price\": \"33000\", \"Published_Year\": \"2012\"},\n",
    "{\"Title\": \"Compiler\", \"Author\": \"Thanh Tran\",\n",
    "\"Publisher\": \"VNU\", \"Price\": \"24000\",\"Published_Year\": \"2011\"},\n",
    "{\"Title\": \"C language\", \"Author\": \"Man Nhi\",\n",
    "\"Publisher\": \"SSS\", \"Price\": \"29000\",\"Published_Year\": \"2010\"},\n",
    "{\"Title\": \"Programming Linguistics\", \"Author\": \"Pham Dieu\",\n",
    "\"Publisher\": \"HCM\",\"Price\": \"41000\", \"Published_Year\": \"2009\"},\n",
    "{\"Title\": \"C# language\", \"Author\": \"Thanh Tran\",\n",
    "\"Publisher\": \"VNU\", \"Price\": \"42000\",\"Published_Year\": \"2013\"},\n",
    "{\"Title\": \"App Inventor\", \"Author\": \"Man Nhi\",\n",
    "\"Publisher\": \"LD\", \"Price\": \"30000\",\"Published_Year\": \"2015\"},\n",
    "]\n",
    "def timsach():\n",
    "    while True:\n",
    "        inf=input('Chao mung den voi thu vien vui long chon chuc nang: 1.title\\n2.author\\n3.publisher\\n4.thoat')\n",
    "        inf=int(inf)\n",
    "        if inf==4:\n",
    "            print('Xin cam on da su dung!!')\n",
    "            break\n",
    "        elif inf==1:\n",
    "            title=input('nhap noi dung can tim: ')\n",
    "            for book in mybooks:\n",
    "                if book['Title']==title:\n",
    "                    print(\"title: \", book[\"Title\"])\n",
    "                    print(\"Author: \", book[\"Author\"])\n",
    "                    print(\"Publisher: \", book[\"Publisher\"])\n",
    "                    print(\"Price: \", book[\"Price\"])\n",
    "                    print(\"year_publish: \", book[\"Published_Year\"])\n",
    "                    break\n",
    "\n",
    "        elif inf==2:\n",
    "            aut=input('nhap noi dung can tim: ')\n",
    "            for book in mybooks:\n",
    "                if book['Author']==aut:\n",
    "                    print(\"title: \", book[\"Title\"])\n",
    "                    print(\"Author: \", book[\"Author\"])\n",
    "                    print(\"Publisher: \", book[\"Publisher\"])\n",
    "                    print(\"Price: \", book[\"Price\"])\n",
    "                    print(\"year_publish: \", book[\"Published_Year\"])\n",
    "                    break\n",
    "        elif inf==3:\n",
    "            pub=input('nhap noi dung can tim: ')\n",
    "            for book in mybooks:\n",
    "                if book['Publisher']==pub:\n",
    "                    print(\"title: \", book[\"Title\"])\n",
    "                    print(\"Author: \", book[\"Author\"])\n",
    "                    print(\"Publisher: \", book[\"Publisher\"])\n",
    "                    print(\"Price: \", book[\"Price\"])\n",
    "                    print(\"year_publish: \", book[\"Published_Year\"])\n",
    "                    break\n",
    "timsach()\n",
    "\n"
   ]
  },
  {
   "cell_type": "markdown",
   "metadata": {},
   "source": [
    "* cach 2"
   ]
  },
  {
   "cell_type": "code",
   "execution_count": 5,
   "metadata": {},
   "outputs": [
    {
     "name": "stdout",
     "output_type": "stream",
     "text": [
      "title:  Android App Development\n",
      "Author:  Thanh Tran\n",
      "Publisher:  VNU\n",
      "Price:  25000\n",
      "year_publish:  2017\n",
      "\n",
      "\n",
      "title:  Python\n",
      "Author:  Thanh Tran\n",
      "Publisher:  VNU\n",
      "Price:  23000\n",
      "year_publish:  2019\n",
      "\n",
      "\n",
      "title:  Compiler\n",
      "Author:  Thanh Tran\n",
      "Publisher:  VNU\n",
      "Price:  24000\n",
      "year_publish:  2011\n",
      "\n",
      "\n",
      "title:  C# language\n",
      "Author:  Thanh Tran\n",
      "Publisher:  VNU\n",
      "Price:  42000\n",
      "year_publish:  2013\n",
      "\n",
      "\n"
     ]
    }
   ],
   "source": [
    "mybooks=[\n",
    "{\"Title\": \"Android App Development\", \"Author\": \"Thanh Tran\",\n",
    "\"Publisher\": \"VNU\", \"Price\": \"25000\",\"Published_Year\": \"2017\"},\n",
    "{\"Title\": \"Python\", \"Author\": \"Thanh Tran\",\n",
    "\"Publisher\": \"VNU\", \"Price\": \"23000\", \"Published_Year\": \"2019\"},\n",
    "{\"Title\": \"JavaScript\", \"Author\": \"Pham Dieu\",\n",
    "\"Publisher\": \"SSS\", \"Price\": \"38000\",\"Published_Year\": \"2018\"},\n",
    "{\"Title\": \"HTML5\", \"Author\": \"Man Nhi\",\n",
    "\"Publisher\": \"HCM\", \"Price\": \"33000\", \"Published_Year\": \"2012\"},\n",
    "{\"Title\": \"Compiler\", \"Author\": \"Thanh Tran\",\n",
    "\"Publisher\": \"VNU\", \"Price\": \"24000\",\"Published_Year\": \"2011\"},\n",
    "{\"Title\": \"C language\", \"Author\": \"Man Nhi\",\n",
    "\"Publisher\": \"SSS\", \"Price\": \"29000\",\"Published_Year\": \"2010\"},\n",
    "{\"Title\": \"Programming Linguistics\", \"Author\": \"Pham Dieu\",\n",
    "\"Publisher\": \"HCM\",\"Price\": \"41000\", \"Published_Year\": \"2009\"},\n",
    "{\"Title\": \"C# language\", \"Author\": \"Thanh Tran\",\n",
    "\"Publisher\": \"VNU\", \"Price\": \"42000\",\"Published_Year\": \"2013\"},\n",
    "{\"Title\": \"App Inventor\", \"Author\": \"Man Nhi\",\n",
    "\"Publisher\": \"LD\", \"Price\": \"30000\",\"Published_Year\": \"2015\"},\n",
    "]\n",
    "check=False\n",
    "while check==False:\n",
    "    chon=input(\"\"\" Nhap lua chon:\n",
    "                    1.title\n",
    "                    2.author\n",
    "                    3.publish\"\"\")\n",
    "    if chon=='1':\n",
    "        key='Title'\n",
    "        break\n",
    "    elif chon=='2':\n",
    "        key='Author'\n",
    "        break\n",
    "    elif chon=='3':\n",
    "        key='Publisher'\n",
    "        break\n",
    "    else:\n",
    "        print('sai cu phap')\n",
    "        check=False\n",
    "inputKey=input('nhap thong tin can tim: ')\n",
    "dem=0\n",
    "for book in mybooks:\n",
    "    if inputKey==(book[key]):\n",
    "        print(\"title: \", book[\"Title\"])\n",
    "        print(\"Author: \", book[\"Author\"])\n",
    "        print(\"Publisher: \", book[\"Publisher\"])\n",
    "        print(\"Price: \", book[\"Price\"])\n",
    "        print(\"year_publish: \", book[\"Published_Year\"])\n",
    "        dem+=1\n",
    "        print('\\n')\n",
    "if dem==0:\n",
    "    print('not found!!')"
   ]
  },
  {
   "cell_type": "code",
   "execution_count": 2,
   "metadata": {},
   "outputs": [],
   "source": [
    "data = []\n",
    "\n",
    "while True:\n",
    "    info = input(\"Please enter some information (or 'quit' to stop): \")\n",
    "    if info.lower() == 'quit':\n",
    "        break\n",
    "    else:\n",
    "        data.append(info)\n",
    "\n",
    "print(\"You entered the following information:\")\n",
    "for item in data:\n",
    "    print(item)"
   ]
  },
  {
   "cell_type": "code",
   "execution_count": 2,
   "metadata": {},
   "outputs": [
    {
     "ename": "NameError",
     "evalue": "name 'mybooks' is not defined",
     "output_type": "error",
     "traceback": [
      "\u001b[1;31m---------------------------------------------------------------------------\u001b[0m",
      "\u001b[1;31mNameError\u001b[0m                                 Traceback (most recent call last)",
      "\u001b[1;32mc:\\Users\\buidu\\OneDrive\\Máy tính\\code2\\PYthon_only\\DICTIONARY.ipynb Cell 15\u001b[0m line \u001b[0;36m1\n\u001b[0;32m      <a href='vscode-notebook-cell:/c%3A/Users/buidu/OneDrive/M%C3%A1y%20t%C3%ADnh/code2/PYthon_only/DICTIONARY.ipynb#X21sZmlsZQ%3D%3D?line=8'>9</a>\u001b[0m             \u001b[39mfor\u001b[39;00m i \u001b[39min\u001b[39;00m mybooks:\n\u001b[0;32m     <a href='vscode-notebook-cell:/c%3A/Users/buidu/OneDrive/M%C3%A1y%20t%C3%ADnh/code2/PYthon_only/DICTIONARY.ipynb#X21sZmlsZQ%3D%3D?line=9'>10</a>\u001b[0m                 \u001b[39mprint\u001b[39m(\u001b[39mtype\u001b[39m(i))\n\u001b[1;32m---> <a href='vscode-notebook-cell:/c%3A/Users/buidu/OneDrive/M%C3%A1y%20t%C3%ADnh/code2/PYthon_only/DICTIONARY.ipynb#X21sZmlsZQ%3D%3D?line=10'>11</a>\u001b[0m d\u001b[39m=\u001b[39mtimsach()\n\u001b[0;32m     <a href='vscode-notebook-cell:/c%3A/Users/buidu/OneDrive/M%C3%A1y%20t%C3%ADnh/code2/PYthon_only/DICTIONARY.ipynb#X21sZmlsZQ%3D%3D?line=11'>12</a>\u001b[0m \u001b[39mprint\u001b[39m(d)\n",
      "\u001b[1;32mc:\\Users\\buidu\\OneDrive\\Máy tính\\code2\\PYthon_only\\DICTIONARY.ipynb Cell 15\u001b[0m line \u001b[0;36m9\n\u001b[0;32m      <a href='vscode-notebook-cell:/c%3A/Users/buidu/OneDrive/M%C3%A1y%20t%C3%ADnh/code2/PYthon_only/DICTIONARY.ipynb#X21sZmlsZQ%3D%3D?line=6'>7</a>\u001b[0m     \u001b[39mbreak\u001b[39;00m\n\u001b[0;32m      <a href='vscode-notebook-cell:/c%3A/Users/buidu/OneDrive/M%C3%A1y%20t%C3%ADnh/code2/PYthon_only/DICTIONARY.ipynb#X21sZmlsZQ%3D%3D?line=7'>8</a>\u001b[0m \u001b[39melif\u001b[39;00m inf\u001b[39m==\u001b[39m\u001b[39m1\u001b[39m:\n\u001b[1;32m----> <a href='vscode-notebook-cell:/c%3A/Users/buidu/OneDrive/M%C3%A1y%20t%C3%ADnh/code2/PYthon_only/DICTIONARY.ipynb#X21sZmlsZQ%3D%3D?line=8'>9</a>\u001b[0m     \u001b[39mfor\u001b[39;00m i \u001b[39min\u001b[39;00m mybooks:\n\u001b[0;32m     <a href='vscode-notebook-cell:/c%3A/Users/buidu/OneDrive/M%C3%A1y%20t%C3%ADnh/code2/PYthon_only/DICTIONARY.ipynb#X21sZmlsZQ%3D%3D?line=9'>10</a>\u001b[0m         \u001b[39mprint\u001b[39m(\u001b[39mtype\u001b[39m(i))\n",
      "\u001b[1;31mNameError\u001b[0m: name 'mybooks' is not defined"
     ]
    }
   ],
   "source": [
    "def timsach():\n",
    "    while True:\n",
    "        inf=input('Chao mung den voi thu vien vui long chon chuc nang: 1.title\\n2.author\\n3.publisher\\n4.thoat')\n",
    "        inf=int(inf)\n",
    "        if inf==4:\n",
    "            print('Xin cam on da su dung!!')\n",
    "            break\n",
    "        elif inf==1:\n",
    "            for i in mybooks:\n",
    "                print(type(i))\n",
    "d=timsach()"
   ]
  },
  {
   "cell_type": "code",
   "execution_count": null,
   "metadata": {},
   "outputs": [
    {
     "ename": "",
     "evalue": "",
     "output_type": "error",
     "traceback": [
      "\u001b[1;31mFailed to start the Kernel. \n",
      "\u001b[1;31mUnable to start Kernel 'Python 3.10.10' due to a timeout waiting for the ports to get used. \n",
      "\u001b[1;31mView Jupyter <a href='command:jupyter.viewOutput'>log</a> for further details."
     ]
    }
   ],
   "source": [
    "print('hello')"
   ]
  }
 ],
 "metadata": {
  "kernelspec": {
   "display_name": "Python 3",
   "language": "python",
   "name": "python3"
  },
  "language_info": {
   "codemirror_mode": {
    "name": "ipython",
    "version": 3
   },
   "file_extension": ".py",
   "mimetype": "text/x-python",
   "name": "python",
   "nbconvert_exporter": "python",
   "pygments_lexer": "ipython3",
   "version": "3.10.10"
  },
  "orig_nbformat": 4
 },
 "nbformat": 4,
 "nbformat_minor": 2
}
