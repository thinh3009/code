{
 "cells": [
  {
   "cell_type": "code",
   "execution_count": 1,
   "metadata": {},
   "outputs": [
    {
     "name": "stdout",
     "output_type": "stream",
     "text": [
      "--> thien nguyen\n",
      "--> my nguyen\n"
     ]
    }
   ],
   "source": [
    "# ke thua\n",
    "class employee():\n",
    "    salary = 1.5\n",
    "\n",
    "    def __init__(self, first, last, pay):\n",
    "        self.first = first\n",
    "        self.last = last\n",
    "        self.email = first + '-'+last+'@gmail.com'\n",
    "        self.pay = pay\n",
    "\n",
    "    def fullname(self):\n",
    "        return '{} {}'.format(self.first, self.last)\n",
    "\n",
    "    def apply_salary(self):\n",
    "        self.pay = int(self.pay*self.salary)\n",
    "        return self.pay\n",
    "# tao class moi ke thua tu class cu\n",
    "\n",
    "\n",
    "class develop(employee):\n",
    "    salary = 1.02\n",
    "\n",
    "    def __init__(self, first, last, pay, program):\n",
    "        # super la ke thua tu class tren\n",
    "        super().__init__(first, last, pay)\n",
    "        self.program = program\n",
    "\n",
    "\n",
    "class manager(employee):\n",
    "    salary = 2\n",
    "\n",
    "    def __init__(self, first, last, pay, listEmployee=None):\n",
    "        super().__init__(first, last, pay)\n",
    "        if listEmployee == None:\n",
    "            self.listEmployee = []\n",
    "        else:\n",
    "            self.listEmployee = listEmployee\n",
    "\n",
    "    def add_employee(self, emp):\n",
    "        if emp not in self.listEmployee:\n",
    "            self.listEmployee.append(emp)\n",
    "\n",
    "    def remove_employee(self, emp):\n",
    "        if emp in self.listEmployee:\n",
    "            self.listEmployee.remove(emp)\n",
    "\n",
    "    def print_employee(self):\n",
    "        for emp in self.listEmployee:\n",
    "            print('-->', emp.fullname())\n",
    "\n",
    "\n",
    "class thuky(employee):\n",
    "    salary = 2\n",
    "\n",
    "    def __init__(self, first, last, pay, job):\n",
    "        super().__init__(first, last, pay)\n",
    "        self.job = job\n",
    "\n",
    "\n",
    "dev1 = develop(\"thinh\", \"bui\", 100, \"python\")\n",
    "dev2 = develop(\"thien\", \"nguyen\", 200, 'C++')\n",
    "tk = thuky(\"my\", 'nguyen', 200, 'quan ly')\n",
    "man1 = manager(\"hung\", \"bui\", 500, [dev1, dev2])\n",
    "man1.remove_employee(dev1)\n",
    "man1.add_employee(tk)\n",
    "man1.print_employee()"
   ]
  },
  {
   "cell_type": "code",
   "execution_count": null,
   "metadata": {},
   "outputs": [],
   "source": [
    "class employee:\n",
    "    salary = 1.04\n",
    "\n",
    "    def __init__(self, first, last, pay):\n",
    "        self.first = first\n",
    "        self.last = last\n",
    "        self.mail = first+'-'+last+'@gmail.com'\n",
    "        self.pay = pay\n",
    "\n",
    "    def full_name(self):\n",
    "        return '{}{}'.format(self.first, self.last)\n",
    "\n",
    "    def apply_salary(self):\n",
    "        self.pay = int(self.pay*self.apply_salary)\n",
    "        return self.pay\n",
    "\n",
    "    def __repr__(self):\n",
    "        return f\"employee {self.first},{self.last},{self.pay}\"\n",
    "\n",
    "    def __str__(self):\n",
    "        return f\"{self.full_name()} - {self.mail}\"\n",
    "\n",
    "\n",
    "emp1 = employee('thinh', 'bui', 3000)\n",
    "# print(str(emp1))\n",
    "# print(repr(emp1))\n",
    "# import datetime\n",
    "# today=datetime.datetime.now()\n",
    "# print(str(today))\n",
    "# print(repr(today))\n",
    "emp2 = employee('hung', 'nguyen', 2000)"
   ]
  },
  {
   "cell_type": "code",
   "execution_count": 2,
   "metadata": {},
   "outputs": [
    {
     "name": "stdout",
     "output_type": "stream",
     "text": [
      "vinfast luxA\n",
      "vinfast\n",
      "bugati\n",
      "chiron\n",
      "bugati chiron\n",
      "delete fullname!!\n",
      "None None\n"
     ]
    }
   ],
   "source": [
    "class car:\n",
    "    def __init__(self, brand, model):\n",
    "        self.brand = brand\n",
    "        self.model = model\n",
    "\n",
    "    @property  # dua full_name thanh 1 thuoc tinh\n",
    "    def full_name(self):\n",
    "        return f'{self.brand} {self.model}'\n",
    "    # setter tan dung tu full_name\n",
    "\n",
    "    @full_name.setter\n",
    "    def full_name(self, full_name):\n",
    "        brand, model = full_name.split(\" \")\n",
    "        self.brand = brand\n",
    "        self.model = model\n",
    "    # deleter\n",
    "\n",
    "    @full_name.deleter\n",
    "    def full_name(self):\n",
    "        self.brand = None\n",
    "        self.model = None\n",
    "        print(\"delete fullname!!\")\n",
    "\n",
    "\n",
    "xe = car(\"vinfast\", \"luxA\")\n",
    "print(xe.full_name)\n",
    "print(xe.brand)\n",
    "# khai bao bien moi\n",
    "xe.full_name = 'bugati chiron'\n",
    "print(xe.brand)\n",
    "print(xe.model)\n",
    "print(xe.full_name)\n",
    "del xe.full_name\n",
    "print(xe.brand, xe.model)"
   ]
  },
  {
   "cell_type": "code",
   "execution_count": 3,
   "metadata": {},
   "outputs": [
    {
     "name": "stdout",
     "output_type": "stream",
     "text": [
      "{'ten': 'sieu nhan gao', 'vukhi': 'kiem', 'mausac': 'do'}\n",
      "do\n",
      "1,2,3, sieu nhan gao\n"
     ]
    }
   ],
   "source": [
    "# method\n",
    "class sieu_nhan:\n",
    "\n",
    "    def __init__(self, ten, vukhi, mausac):\n",
    "        self.ten = ten\n",
    "        self.vukhi = vukhi\n",
    "        self.mausac = mausac\n",
    "    # thay doi gia tri\n",
    "\n",
    "    @classmethod\n",
    "    def from_string(cls, s):  # thuong phuong thuc co ten from\n",
    "        lst = s.split('-')\n",
    "        new_list = [st.strip() for st in lst]  # strip xoa khoang trang\n",
    "        ten, vukhi, mausac = new_list\n",
    "        return cls(ten, vukhi, mausac)\n",
    "    # ko thay doi gia tri\n",
    "\n",
    "    @staticmethod\n",
    "    def bien_hinh():\n",
    "        suc_manh = 50\n",
    "        print(\"1,2,3, sieu nhan gao\")\n",
    "\n",
    "\n",
    "infr_string = 'sieu nhan gao - kiem - do'\n",
    "sieunhanA = sieu_nhan.from_string(infr_string)\n",
    "print(sieunhanA.__dict__)\n",
    "print(sieunhanA.mausac)\n",
    "sieunhanA.bien_hinh()"
   ]
  },
  {
   "cell_type": "code",
   "execution_count": 38,
   "metadata": {},
   "outputs": [
    {
     "name": "stdout",
     "output_type": "stream",
     "text": [
      " chan dai\n",
      "tay gay\n",
      "dau nho\n",
      "chan to-tay nhola bi suy dinh duong\n",
      " chan dai tay gay\n",
      " chan dai-tay gaybi tai nan\n"
     ]
    }
   ],
   "source": [
    "# getter,setter,deleter\n",
    "class Nguoi:\n",
    "    def __init__(self, chan, tay, dau):\n",
    "        self.chan = chan\n",
    "        self.tay = tay\n",
    "        self.dau = dau\n",
    "        self.than = chan+'-'+tay+'la bi suy dinh duong'\n",
    "\n",
    "    def benh1(self):\n",
    "        return '{} {}'.format(self.chan, self.tay)\n",
    "\n",
    "    @property  # bien benh2 thanh thuoc tinh (getter)\n",
    "    def benh2(self):\n",
    "        return self.chan + '-' + self.tay+'bi tai nan'\n",
    "\n",
    "\n",
    "nguoi_1 = Nguoi('chan to', 'tay nho', 'dau nho')\n",
    "nguoi_1.chan = ' chan dai'\n",
    "nguoi_1.tay = 'tay gay'\n",
    "\n",
    "print(nguoi_1.chan)\n",
    "print(nguoi_1.tay)\n",
    "print(nguoi_1.dau)\n",
    "print(nguoi_1.than)\n",
    "print(nguoi_1.benh1())\n",
    "# muon thay doi benh phai tao 1 ham moi\n",
    "print(nguoi_1.benh2)"
   ]
  },
  {
   "cell_type": "code",
   "execution_count": 66,
   "metadata": {},
   "outputs": [
    {
     "name": "stdout",
     "output_type": "stream",
     "text": [
      "chan ngan-tay congla bi suy dinh duong\n",
      "nho gay\n"
     ]
    }
   ],
   "source": [
    "# setter\n",
    "class Nguoi:\n",
    "    def __init__(self, chan, tay):\n",
    "        self.chan = chan\n",
    "        self.tay = tay\n",
    "        self.than = chan+'-'+tay+'la bi suy dinh duong'\n",
    "\n",
    "    @property\n",
    "    def benh1(self):\n",
    "        return '{} {}'.format(self.chan, self.tay)\n",
    "\n",
    "    @benh1.setter\n",
    "    def benh1(self, benh_moi):\n",
    "        taymoi, chanmoi = benh_moi.split()\n",
    "        self.tay = taymoi\n",
    "        self.chan = chanmoi\n",
    "\n",
    "\n",
    "nguoi_1 = Nguoi(\"chan ngan\", 'tay cong')\n",
    "\n",
    "nguoi_1.benh1 = ' gay nho'\n",
    "# nguoi_1.benh1=' chan ngan tay dai'\n",
    "print(nguoi_1.than)\n",
    "print(nguoi_1.benh1)"
   ]
  },
  {
   "cell_type": "code",
   "execution_count": 24,
   "metadata": {},
   "outputs": [
    {
     "name": "stdout",
     "output_type": "stream",
     "text": [
      "bui\n",
      "1.04\n"
     ]
    }
   ],
   "source": [
    "# tinh dong goi(private,public,protected)\n",
    "class employee:\n",
    "    # 2 dau gach duoi la private\n",
    "    __salary = 1.04\n",
    "\n",
    "    def __init__(self, first, last, pay):\n",
    "        self.first = first\n",
    "        self.last = last\n",
    "        self.mail = first+'-'+last+'@gmail.com'\n",
    "\n",
    "    def full_name(self):\n",
    "        return '{} {}'.format(self.first, self.last)\n",
    "\n",
    "    def app_salary(self):\n",
    "        self.pay = int(self.pay*self.salary)\n",
    "        return self.pay\n",
    "    # muon lay tu private phai tao ham\n",
    "\n",
    "    def cSalary(self):\n",
    "        return self.__salary\n",
    "\n",
    "\n",
    "emp1 = employee('bui', 'thinh', 400)\n",
    "print(emp1.first)\n",
    "# private ko the in ra dc\n",
    "# print(emp1.__salary)\n",
    "print(emp1.cSalary())"
   ]
  },
  {
   "cell_type": "code",
   "execution_count": 25,
   "metadata": {},
   "outputs": [
    {
     "name": "stdout",
     "output_type": "stream",
     "text": [
      "bui\n",
      "1.04\n"
     ]
    }
   ],
   "source": [
    "# tinh dong goi(private,public,protected)\n",
    "class employee:\n",
    "    # 1 dau gach duoi la protected\n",
    "    _salary = 1.04\n",
    "\n",
    "    def __init__(self, first, last, pay):\n",
    "        self.first = first\n",
    "        self.last = last\n",
    "        self.mail = first+'-'+last+'@gmail.com'\n",
    "\n",
    "    def full_name(self):\n",
    "        return '{} {}'.format(self.first, self.last)\n",
    "\n",
    "    def app_salary(self):\n",
    "        self.pay = int(self.pay*self.salary)\n",
    "        return self.pay\n",
    "\n",
    "\n",
    "emp1 = employee('bui', 'thinh', 400)\n",
    "print(emp1.first)\n",
    "# protected co the in ra dc\n",
    "print(emp1._salary)"
   ]
  },
  {
   "cell_type": "code",
   "execution_count": 1,
   "metadata": {},
   "outputs": [
    {
     "name": "stdout",
     "output_type": "stream",
     "text": [
      "t la nam\n",
      "t la nu\n"
     ]
    }
   ],
   "source": [
    "# tinh da hinh\n",
    "class Nam:\n",
    "    def __init__(self, ten, mssv):\n",
    "        self.ten = ten\n",
    "        self.mssv = mssv\n",
    "\n",
    "    def xinchao(self):\n",
    "        print('t la nam')\n",
    "\n",
    "\n",
    "class Nu:\n",
    "    def __init__(self, ten, mssv):\n",
    "        self.ten = ten\n",
    "        self.mssv = mssv\n",
    "\n",
    "    def xinchao(self):\n",
    "        print('t la nu')\n",
    "# da hinh 1 ham ra nhieu ket qua\n",
    "def school(Nam): Nam.xinchao()\n",
    "\n",
    "\n",
    "namsinh = Nam('thinh', '20h11')\n",
    "nusinh = Nu('vy', '20h12')\n",
    "# in ra man hinh khi dung da hinh\n",
    "# x=namsinh.xinchao()\n",
    "# y=nusinh.xinchao()\n",
    "school(namsinh)\n",
    "school(nusinh)"
   ]
  },
  {
   "cell_type": "code",
   "execution_count": 17,
   "metadata": {},
   "outputs": [
    {
     "name": "stdout",
     "output_type": "stream",
     "text": [
      "doi ma don hang\n"
     ]
    }
   ],
   "source": [
    "mess = {\n",
    "    '1': 'doi ten khach hang',\n",
    "    '2': 'doi ma don hang',\n",
    "    '3': 'doi so dien thoai',\n",
    "    '4': 'doi dia chi',\n",
    "    '5': 'doi so tai khoan',\n",
    "}\n",
    "nhap = int(input('nhap lua chon: '))\n",
    "if nhap == 1:\n",
    "    print(mess['1'])\n",
    "if nhap==2:\n",
    "    print(mess['2'])"
   ]
  }
 ],
 "metadata": {
  "kernelspec": {
   "display_name": "Python 3",
   "language": "python",
   "name": "python3"
  },
  "language_info": {
   "codemirror_mode": {
    "name": "ipython",
    "version": 3
   },
   "file_extension": ".py",
   "mimetype": "text/x-python",
   "name": "python",
   "nbconvert_exporter": "python",
   "pygments_lexer": "ipython3",
   "version": "3.10.10"
  },
  "orig_nbformat": 4,
  "vscode": {
   "interpreter": {
    "hash": "65ba4450cd36bd8bae436019657a54a1950cf0ce1a6e072b8a59defe0a7814ed"
   }
  }
 },
 "nbformat": 4,
 "nbformat_minor": 2
}
