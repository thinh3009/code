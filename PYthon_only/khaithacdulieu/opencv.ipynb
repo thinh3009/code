{
 "cells": [
  {
   "cell_type": "code",
   "execution_count": 19,
   "metadata": {},
   "outputs": [
    {
     "name": "stdout",
     "output_type": "stream",
     "text": [
      "Tong cac so la: 525\n"
     ]
    }
   ],
   "source": [
    "tong = 0\n",
    "for i in range (1,100):\n",
    "    if(i%7==0 and i%3!=0):\n",
    "       tong+=i\n",
    "print(\"Tong cac so la:\",tong)         "
   ]
  },
  {
   "cell_type": "code",
   "execution_count": 32,
   "metadata": {},
   "outputs": [
    {
     "data": {
      "text/plain": [
       "-1"
      ]
     },
     "execution_count": 32,
     "metadata": {},
     "output_type": "execute_result"
    }
   ],
   "source": [
    "import cv2\n",
    "\n",
    "img=cv2.imread(\"car3.jpg\")\n",
    "thresh=128\n",
    "img=cv2.threshold(img,thresh,255,cv2.THRESH_BINARY)[1]\n",
    "cv2.imwrite('car3.jpg',img)\n",
    "img=cv2.imshow('hien thi anh: ',img)\n",
    "cv2.waitKey(0)\n"
   ]
  },
  {
   "cell_type": "code",
   "execution_count": 44,
   "metadata": {},
   "outputs": [
    {
     "data": {
      "text/plain": [
       "-1"
      ]
     },
     "execution_count": 44,
     "metadata": {},
     "output_type": "execute_result"
    }
   ],
   "source": [
    "import cv2\n",
    "img=cv2.imread('car3.jpg',cv2.IMREAD_GRAYSCALE)\n",
    "gray_img=cv2.threshold(img,128,255,cv2.THRESH_BINARY)[1]\n",
    "cv2.imshow(\"anh bth: \",img)\n",
    "cv2.imshow('anh mau: ',gray_img)\n",
    "cv2.waitKey(0)"
   ]
  },
  {
   "cell_type": "code",
   "execution_count": 3,
   "metadata": {},
   "outputs": [
    {
     "data": {
      "text/plain": [
       "-1"
      ]
     },
     "execution_count": 3,
     "metadata": {},
     "output_type": "execute_result"
    }
   ],
   "source": [
    "import cv2\n",
    "import matplotlib.patches as patches\n",
    "import matplotlib.pyplot\n",
    "img = cv2.imread('car3.jpg')\n",
    "thresh = 128\n",
    "cv2.rectangle(img,(250,150),(350,240),(0,255,255),2)\n",
    "cv2.putText(img,'Ho Hiep Phat - 20H1120237', (150,140), cv2.FONT_HERSHEY_SIMPLEX, 0.7,(0,0,255),2)\n",
    "\n",
    "cv2.imshow(\"Bai Ve Khung Ghi ho ten\", img)\n",
    "cv2.waitKey()"
   ]
  },
  {
   "cell_type": "code",
   "execution_count": null,
   "metadata": {},
   "outputs": [],
   "source": []
  }
 ],
 "metadata": {
  "kernelspec": {
   "display_name": "Python 3",
   "language": "python",
   "name": "python3"
  },
  "language_info": {
   "codemirror_mode": {
    "name": "ipython",
    "version": 3
   },
   "file_extension": ".py",
   "mimetype": "text/x-python",
   "name": "python",
   "nbconvert_exporter": "python",
   "pygments_lexer": "ipython3",
   "version": "3.11.1 (tags/v3.11.1:a7a450f, Dec  6 2022, 19:58:39) [MSC v.1934 64 bit (AMD64)]"
  },
  "orig_nbformat": 4,
  "vscode": {
   "interpreter": {
    "hash": "65ba4450cd36bd8bae436019657a54a1950cf0ce1a6e072b8a59defe0a7814ed"
   }
  }
 },
 "nbformat": 4,
 "nbformat_minor": 2
}
