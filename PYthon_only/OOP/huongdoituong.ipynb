{
 "cells": [
  {
   "cell_type": "code",
   "execution_count": 2,
   "metadata": {},
   "outputs": [
    {
     "name": "stdout",
     "output_type": "stream",
     "text": [
      "1000\n"
     ]
    }
   ],
   "source": [
    "class item():\n",
    "    def __init__(self,name,price,quantity):\n",
    "        self.name=name\n",
    "        self.price=price\n",
    "        self.quantity=quantity\n",
    "item1=item('phone',1000,3)\n",
    "item2=item('latop',2000,3)\n",
    "print(item1.price)"
   ]
  },
  {
   "cell_type": "code",
   "execution_count": 10,
   "metadata": {},
   "outputs": [
    {
     "name": "stdout",
     "output_type": "stream",
     "text": [
      "que sv1 thinh, que sv1 lam dong\n",
      "que sv1 lam dong, que sv2 tphcm, que sv3 nghe an\n"
     ]
    }
   ],
   "source": [
    "class sinhvien():\n",
    "    def __init__(self,hoten,masv,quequan):\n",
    "        self.hoten=hoten\n",
    "        self.masv=masv\n",
    "        self.quequan=quequan\n",
    "#nho goi class\n",
    "sv1=sinhvien('thinh','20h11','lam dong')\n",
    "sv2=sinhvien('vy','20h12','tphcm')\n",
    "sv3=sinhvien('hung','20h13','nghe an')\n",
    "print(f'que sv1 {sv1.hoten}, que sv1 {sv1.quequan}')\n",
    "print(f'que sv1 {sv1.quequan}, que sv2 {sv2.quequan}, que sv3 {sv3.quequan}')"
   ]
  },
  {
   "attachments": {},
   "cell_type": "markdown",
   "metadata": {},
   "source": [
    "* phuong thuc"
   ]
  },
  {
   "cell_type": "code",
   "execution_count": 14,
   "metadata": {},
   "outputs": [
    {
     "name": "stdout",
     "output_type": "stream",
     "text": [
      "200\n",
      "expensive\n"
     ]
    }
   ],
   "source": [
    "class item():\n",
    "    def __init__(self,name:str,price:float,quantity):\n",
    "        self.name=name\n",
    "        self.price=price\n",
    "        self.quantity=quantity\n",
    "    def tongGia(self):\n",
    "        return self.price * self.quantity\n",
    "#phuong thuc tinh\n",
    "    @staticmethod\n",
    "    def checkgia(gia):\n",
    "        if gia<=500:\n",
    "            return 'cheap'\n",
    "        else:\n",
    "            return 'expensive'\n",
    "\n",
    "item1=item('phone',1000,3)\n",
    "item2=item('latop',2000,3)\n",
    "item3=item('xbox',100,2)\n",
    "print(item3.tongGia())\n",
    "print(item1.checkgia(item1.price))\n"
   ]
  },
  {
   "attachments": {},
   "cell_type": "markdown",
   "metadata": {},
   "source": [
    "- đa hình, đóng gói, kế thừa"
   ]
  },
  {
   "cell_type": "code",
   "execution_count": 1,
   "metadata": {},
   "outputs": [
    {
     "name": "stdout",
     "output_type": "stream",
     "text": [
      "iphone13 co gia la 11000\n",
      "samsung la dien thoai 5g\n"
     ]
    }
   ],
   "source": [
    "#kế thừa(iheritance)\n",
    "class item():\n",
    "    def __init__(self,name:str,price:float,quantity):\n",
    "        self.name=name\n",
    "        self.price=price\n",
    "        self.quantity=quantity\n",
    "    def tongGia(self):\n",
    "        return self.price * self.quantity\n",
    "#phuong thuc tinh\n",
    "    @staticmethod\n",
    "    def checkgia(gia):\n",
    "        if gia<=500:\n",
    "            return 'cheap'\n",
    "        else:\n",
    "            return 'expensive'\n",
    "#khoi tao class con\n",
    "class phone(item):\n",
    "    def __init__(self,name:str,price:float,quantity,category):\n",
    "        super().__init__(\n",
    "            name,price,quantity\n",
    "        )\n",
    "        self.category=category\n",
    "phone1=phone('iphone13',11000,2,'5g')\n",
    "phone2=phone('samsung',15000,1,'5g')\n",
    "print(f'{phone1.name} co gia la {phone1.price}')\n",
    "print(f'{phone2.name} la dien thoai {phone2.category}')\n",
    "\n"
   ]
  },
  {
   "attachments": {},
   "cell_type": "markdown",
   "metadata": {},
   "source": [
    "- tính bao đóng"
   ]
  },
  {
   "cell_type": "code",
   "execution_count": 14,
   "metadata": {},
   "outputs": [
    {
     "name": "stdout",
     "output_type": "stream",
     "text": [
      "luong moi cua nhan vien 2 5000\n"
     ]
    }
   ],
   "source": [
    "class Bank():\n",
    "    def __init__(self,hoten,cmt):\n",
    "        self.hoten=hoten\n",
    "        self.cmt=cmt\n",
    "class nhanvien(Bank):\n",
    "    def __init__(self,hoten,cmt):\n",
    "        super().__init__(\n",
    "            hoten,cmt\n",
    "        )\n",
    "        \n",
    "        self.__luong=5000 #su dung dau gach duoi de dat private       \n",
    "        #code de bo phan nhan su co the truy cap vao tien luong\n",
    "    def get_luong(self):\n",
    "        return self.__luong\n",
    "    def set_luong(self,luong_moi):\n",
    "        self.__luong=luong_moi\n",
    "nv1=nhanvien('mai',4534534)\n",
    "nv2=nhanvien('hung',4533434)\n",
    "nv2.set_luong(9000)\n",
    "#nv2.__luong=34 #khong xet duoc luong moi vi la private\n",
    "print('luong moi cua nhan vien 2',nv2.get_luong())\n",
    "# print(nv1.hoten,nv1.cmt)\n",
    "# print(nv1.luong)\n",
    "# print(nv2.luong)\n",
    "# nv2.luong=34323\n",
    "# print(nv2.luong)"
   ]
  },
  {
   "attachments": {},
   "cell_type": "markdown",
   "metadata": {},
   "source": [
    "- đa hình "
   ]
  },
  {
   "cell_type": "code",
   "execution_count": 26,
   "metadata": {},
   "outputs": [
    {
     "name": "stdout",
     "output_type": "stream",
     "text": [
      "hello\n",
      "xin chao\n",
      "xin chao\n"
     ]
    }
   ],
   "source": [
    "class Sinhvien_nuocngoai():\n",
    "    def __init__(self,hoten,masv,quequan):\n",
    "        self.hoten=hoten\n",
    "        self.masv=masv\n",
    "        self.quequan=quequan\n",
    "    def chao(self):\n",
    "        print('hello')\n",
    "\n",
    "class Sinhvien_viet():\n",
    "    def __init__(self,hoten,masv,quequan):\n",
    "        self.hoten=hoten\n",
    "        self.masv=masv\n",
    "        self.quequan=quequan\n",
    "    def chao(self):\n",
    "        print('xin chao')\n",
    "def hi(Sinhvien_viet):\n",
    "    Sinhvien_viet.chao() \n",
    "def hi2(Sinhvien_nuocngoai):\n",
    "    Sinhvien_nuocngoai.chao()\n",
    "\n",
    "\n",
    "sv1=Sinhvien_nuocngoai('helen',123123,'usa')\n",
    "sv2=Sinhvien_viet('mai',432423,'hanoi')\n",
    "sv3=Sinhvien_nuocngoai('alan',445423,'hanoi')\n",
    "hi(sv1)\n",
    "hi(sv2)\n",
    "hi2(sv2)"
   ]
  }
 ],
 "metadata": {
  "kernelspec": {
   "display_name": "Python 3",
   "language": "python",
   "name": "python3"
  },
  "language_info": {
   "codemirror_mode": {
    "name": "ipython",
    "version": 3
   },
   "file_extension": ".py",
   "mimetype": "text/x-python",
   "name": "python",
   "nbconvert_exporter": "python",
   "pygments_lexer": "ipython3",
   "version": "3.10.10"
  },
  "orig_nbformat": 4
 },
 "nbformat": 4,
 "nbformat_minor": 2
}
