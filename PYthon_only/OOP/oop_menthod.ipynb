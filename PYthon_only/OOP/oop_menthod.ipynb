{
 "cells": [
  {
   "cell_type": "code",
   "execution_count": 1,
   "metadata": {},
   "outputs": [
    {
     "name": "stdout",
     "output_type": "stream",
     "text": [
      "7\n",
      "5\n"
     ]
    }
   ],
   "source": [
    "class simple:\n",
    "    #attribute\n",
    "    i=5\n",
    "\n",
    "    #init\n",
    "    def __init__(self):\n",
    "        self.j=7\n",
    "    #method\n",
    "    def printm(self):\n",
    "        print(self.j)\n",
    "obj= simple()\n",
    "objb= simple()\n",
    "obj.printm()\n",
    "\n",
    "print(objb.i)"
   ]
  },
  {
   "cell_type": "code",
   "execution_count": 5,
   "metadata": {},
   "outputs": [
    {
     "name": "stdout",
     "output_type": "stream",
     "text": [
      "100\n",
      "500\n"
     ]
    }
   ],
   "source": [
    "#thay doi gia tri thuoc tinh\n",
    "obj.i=100\n",
    "objb.j=500\n",
    "print(obj.i)\n",
    "\n",
    "objb.printm()"
   ]
  },
  {
   "cell_type": "code",
   "execution_count": 7,
   "metadata": {},
   "outputs": [
    {
     "name": "stdout",
     "output_type": "stream",
     "text": [
      "hellohung\n",
      "nam\n"
     ]
    }
   ],
   "source": [
    "#static menthod\n",
    "class simpleclass2:\n",
    "    #constructor\n",
    "    def __init__(self):\n",
    "        self.name='hung'\n",
    "    #methods\n",
    "    def hello(self):\n",
    "        print('hello'+self.name)\n",
    "    #static methods ko can tao doi tuong goi truc tiep class duoc\n",
    "    @staticmethod\n",
    "    def hi(name):\n",
    "        print(name)\n",
    "objc=simpleclass2()\n",
    "objd=simpleclass2()\n",
    "objc.hello()\n",
    "objd.hi('nam')"
   ]
  },
  {
   "cell_type": "markdown",
   "metadata": {},
   "source": [
    "1. bai tap"
   ]
  },
  {
   "cell_type": "code",
   "execution_count": 30,
   "metadata": {},
   "outputs": [
    {
     "name": "stdout",
     "output_type": "stream",
     "text": [
      "273\n"
     ]
    }
   ],
   "source": [
    "class Ngay():\n",
    "    def __init__(self,ngay,thang,nam):\n",
    "        self.ngay=ngay\n",
    "        self.thang=thang\n",
    "        self.nam=nam\n",
    "    #xac dinh so ngay cua thang\n",
    "    @staticmethod\n",
    "    def xacDinhsoNgayCuaThang(thang,nam):\n",
    "        if(thang in [1,3,5,7,8,10,12]):\n",
    "            return 31\n",
    "        elif (thang in [4,6,9,11]):\n",
    "            return 30\n",
    "        elif (thang==2):\n",
    "            if (nam%400==0 or (nam%4==0 and nam%1!=0)):\n",
    "                return 29\n",
    "            else:\n",
    "                return 28\n",
    "        '''\n",
    "        ngay trong nam\n",
    "        vd: 15/3/2023\n",
    "        thang 1: 31 ngay\n",
    "        thang 2: 28 ngay\n",
    "        31+28+15=\n",
    "        '''\n",
    "    def NgaytrongNam(self):\n",
    "        giaTringayTrongNam=0\n",
    "        #tong so ngay thang truoc\n",
    "        for i in range(1,self.thang):\n",
    "            giaTringayTrongNam+=self.xacDinhsoNgayCuaThang(i,self.nam)\n",
    "        #cong them so ngay thang hien tai\n",
    "        giaTringayTrongNam+=self.ngay\n",
    "        return giaTringayTrongNam\n",
    "ngayA=Ngay(30,9,2023)\n",
    "print(ngayA.NgaytrongNam())"
   ]
  }
 ],
 "metadata": {
  "kernelspec": {
   "display_name": "Python 3",
   "language": "python",
   "name": "python3"
  },
  "language_info": {
   "codemirror_mode": {
    "name": "ipython",
    "version": 3
   },
   "file_extension": ".py",
   "mimetype": "text/x-python",
   "name": "python",
   "nbconvert_exporter": "python",
   "pygments_lexer": "ipython3",
   "version": "3.11.4"
  },
  "orig_nbformat": 4
 },
 "nbformat": 4,
 "nbformat_minor": 2
}
