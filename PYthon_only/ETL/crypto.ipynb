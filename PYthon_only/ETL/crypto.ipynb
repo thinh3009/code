{
 "cells": [
  {
   "cell_type": "code",
   "execution_count": 2,
   "metadata": {},
   "outputs": [],
   "source": [
    "from bs4 import BeautifulSoup"
   ]
  },
  {
   "cell_type": "code",
   "execution_count": 3,
   "metadata": {},
   "outputs": [],
   "source": [
    "import requests"
   ]
  },
  {
   "cell_type": "code",
   "execution_count": 4,
   "metadata": {},
   "outputs": [
    {
     "name": "stdout",
     "output_type": "stream",
     "text": [
      "$66,919.99\n",
      "$3,099.10\n",
      "$1.00\n",
      "$579.50\n",
      "$172.78\n",
      "$0.9997\n",
      "$0.5234\n",
      "$0.15487\n",
      "$0.4808\n",
      "$0.00002486\n",
      "$37.23\n",
      "$0.12423\n",
      "$66,896.29\n",
      "$7.20\n",
      "$16.32\n",
      "$483.90\n",
      "$7.99\n",
      "$0.7162\n",
      "$84.10\n",
      "$13.25\n",
      "$1.00\n",
      "$7.56\n",
      "$28.81\n",
      "$0.00001007\n",
      "$0.1144\n",
      "$10.01\n",
      "$8.66\n",
      "$2.41\n",
      "$0.9996\n",
      "$8.66\n",
      "end page  1\n",
      "$66,919.99\n",
      "$3,099.10\n",
      "$1.00\n",
      "$579.50\n",
      "$172.78\n",
      "$0.9997\n",
      "$0.5234\n",
      "$0.15487\n",
      "$0.4808\n",
      "$0.00002486\n",
      "$37.23\n",
      "$0.12423\n",
      "$66,896.29\n",
      "$7.20\n",
      "$16.32\n",
      "$483.90\n",
      "$7.99\n",
      "$0.7162\n",
      "$84.10\n",
      "$13.25\n",
      "$1.00\n",
      "$7.56\n",
      "$28.81\n",
      "$0.00001007\n",
      "$0.1144\n",
      "$10.01\n",
      "$8.66\n",
      "$2.41\n",
      "$0.9996\n",
      "$8.66\n",
      "end page  2\n"
     ]
    }
   ],
   "source": [
    "for i in range(1,3):\n",
    "    header1={\n",
    "        'User-Agent': 'Mozilla/5.0 (Windows NT 10.0; Win64; x64) AppleWebKit/537.36 (KHTML, like Gecko) Chrome/124.0.0.0 Safari/537.36 Edg/124.0.0.0',\n",
    "    }\n",
    "    htmltxt=requests.get(f'https://www.binance.com/en/markets/overview?p={i}',headers=header1).text\n",
    "    #print(htmltxt)\n",
    "\n",
    "    try:\n",
    "        soup=BeautifulSoup(htmltxt,'lxml')\n",
    "        detail=soup.find_all('div',class_='css-vlibs4')\n",
    "        price=soup.find_all('div',class_='body2 items-center css-18yakpx')\n",
    "        for j in price:\n",
    "            print(j.text)\n",
    "    except:\n",
    "        print('error')\n",
    "    print('end page ',i)"
   ]
  },
  {
   "cell_type": "code",
   "execution_count": 4,
   "metadata": {},
   "outputs": [
    {
     "ename": "",
     "evalue": "",
     "output_type": "error",
     "traceback": [
      "\u001b[1;31mThe Kernel crashed while executing code in the current cell or a previous cell. \n",
      "\u001b[1;31mPlease review the code in the cell(s) to identify a possible cause of the failure. \n",
      "\u001b[1;31mClick <a href='https://aka.ms/vscodeJupyterKernelCrash'>here</a> for more info. \n",
      "\u001b[1;31mView Jupyter <a href='command:jupyter.viewOutput'>log</a> for further details."
     ]
    }
   ],
   "source": [
    "i=2\n",
    "#htmltxt=requests.get(f'https://www.binance.com/en/markets/overview?p={i}',timeout=10).text\n",
    "    #print(htmltxt)\n",
    "respone=requests.get(f'https://www.binance.com/en/markets/overview?p={i}',timeout=10)\n",
    "htmltxt=respone.text\n",
    "try:\n",
    "    soup=BeautifulSoup(htmltxt,'lxml')\n",
    "    detail=soup.find_all('div',class_='css-vlibs4')\n",
    "    price=soup.find_all('div',class_='body2 items-center css-18yakpx')\n",
    "    for j in price:\n",
    "        print(j.text)\n",
    "except:\n",
    "    print('error')"
   ]
  },
  {
   "cell_type": "code",
   "execution_count": null,
   "metadata": {},
   "outputs": [],
   "source": []
  },
  {
   "cell_type": "code",
   "execution_count": null,
   "metadata": {},
   "outputs": [],
   "source": [
    "array=[]\n",
    "for h in htmltxt:\n",
    "    "
   ]
  }
 ],
 "metadata": {
  "kernelspec": {
   "display_name": "base",
   "language": "python",
   "name": "python3"
  },
  "language_info": {
   "codemirror_mode": {
    "name": "ipython",
    "version": 3
   },
   "file_extension": ".py",
   "mimetype": "text/x-python",
   "name": "python",
   "nbconvert_exporter": "python",
   "pygments_lexer": "ipython3",
   "version": "3.11.7"
  }
 },
 "nbformat": 4,
 "nbformat_minor": 2
}
