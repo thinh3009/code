{
 "cells": [
  {
   "cell_type": "code",
   "execution_count": 1,
   "metadata": {},
   "outputs": [],
   "source": [
    "import requests\n",
    "from bs4 import BeautifulSoup\n",
    "import pandas as pd\n",
    "from openpyxl import load_workbook\n",
    "\n",
    "index = 1"
   ]
  },
  {
   "cell_type": "code",
   "execution_count": 2,
   "metadata": {},
   "outputs": [],
   "source": [
    "def Bitcoin():\n",
    "    Btc_res = requests.get('https://coinmarketcap.com/currencies/bitcoin/')\n",
    "    Btc_soup = BeautifulSoup(Btc_res.text, 'lxml')\n",
    "    \n",
    "    #Btc_element = Btc_soup.find_all(\"span\", class_= \"sc-f70bb44c-0 flfGQp flexStart alignBaseline\")\n",
    "    Btc_span = Btc_soup.find_all(\"span\", class_= \"sc-f70bb44c-0 jxpCgO base-text\")\n",
    "    for btc_get in Btc_span:\n",
    "        btc_out = btc_get.get_text()\n",
    "        btc_str = btc_out[index:]\n",
    "        BTC = float((btc_str).replace(',',''))\n",
    "        print(\"BTC= \",BTC)"
   ]
  },
  {
   "cell_type": "code",
   "execution_count": 3,
   "metadata": {},
   "outputs": [],
   "source": [
    "def Ethereum():\n",
    "    eth_res = requests.get('https://coinmarketcap.com/currencies/ethereum/')\n",
    "    eth_soup = BeautifulSoup(eth_res.text, 'lxml')\n",
    "    \n",
    "    eth_span = eth_soup.find_all(\"span\", class_= \"sc-f70bb44c-0 jxpCgO base-text\")\n",
    "    for eth_get in eth_span:\n",
    "        eth_out = eth_get.get_text()\n",
    "        eth_str = eth_out[index:]\n",
    "        ETH = float((eth_str).replace(',',''))       \n",
    "        print(\"ETH = \", ETH)\n"
   ]
  },
  {
   "cell_type": "code",
   "execution_count": 4,
   "metadata": {},
   "outputs": [],
   "source": [
    "def ChainLink():\n",
    "    Link_res = requests.get('https://coinmarketcap.com/currencies/chainlink/')\n",
    "    Link_soup = BeautifulSoup(Link_res.text, 'lxml')\n",
    "\n",
    "    #Link_elements = Link_soup.find_all(\"span\", class_=\"sc-f70bb44c-0 flfGQp flexStart alignBaseline\")\n",
    "    Link_span = Link_soup.find_all(\"span\", class_=\"sc-f70bb44c-0 jxpCgO base-text\")\n",
    "    for Link_get in Link_span:\n",
    "        Link_out = Link_get.get_text()\n",
    "        #print(\"Link = \"+ Link.get_text())\n",
    "        Link_str= Link_out[index:]\n",
    "        Link = float(Link_str)\n",
    "        print(\"LINK= \",Link)\n"
   ]
  },
  {
   "cell_type": "code",
   "execution_count": 5,
   "metadata": {},
   "outputs": [],
   "source": [
    "def Polkadot():\n",
    "    Dot_res = requests.get('https://coinmarketcap.com/currencies/polkadot-new/')\n",
    "    Dot_soup = BeautifulSoup(Dot_res.text, 'lxml')\n",
    "\n",
    "    #Dot_elements = Dot_soup.find_all(\"span\", class_= \"sc-f70bb44c-0 flfGQp flexStart alignBaseline\")\n",
    "    Dot_span = Dot_soup.find_all(\"span\", class_= \"sc-f70bb44c-0 jxpCgO base-text\")\n",
    "    for Dot_get in Dot_span:\n",
    "        Dot_out = Dot_get.get_text()\n",
    "        #print(\"Dot= \" + Dot.get_text())\n",
    "        #Dot_text = Dot.get_text()\n",
    "        Dot_str= Dot_out[index:]\n",
    "        Dot = float(Dot_str)\n",
    "        print(\"DOT= \",Dot)"
   ]
  },
  {
   "cell_type": "code",
   "execution_count": 6,
   "metadata": {},
   "outputs": [],
   "source": [
    "def Cardano():\n",
    "    ADA_res = requests.get('https://coinmarketcap.com/currencies/cardano/')\n",
    "    ADA_soup = BeautifulSoup(ADA_res.text, 'lxml')\n",
    "    \n",
    "    #ADA_element = ADA_soup.find_all(\"span\", class_= \"sc-f70bb44c-0 flfGQp flexStart alignBaseline\")\n",
    "    ADA_span = ADA_soup.find_all(\"span\", class_= \"sc-f70bb44c-0 jxpCgO base-text\")\n",
    "    for ADA_get in ADA_span:\n",
    "        ADA_out = ADA_get.get_text()\n",
    "        ADA_str = ADA_out[index:]\n",
    "        ADA = float(ADA_str)\n",
    "        print(\"ADA = \", ADA)\n"
   ]
  },
  {
   "cell_type": "code",
   "execution_count": 7,
   "metadata": {},
   "outputs": [],
   "source": [
    "def Sui():\n",
    "    Sui_res = requests.get('https://coinmarketcap.com/currencies/sui/')\n",
    "    Sui_soup = BeautifulSoup(Sui_res.text, 'lxml')\n",
    "    \n",
    "    #Sui_element = x_soup.find_all(\"span\", class_= \"sc-f70bb44c-0 flfGQp flexStart alignBaseline\")\n",
    "    Sui_span = Sui_soup.find_all(\"span\", class_= \"sc-f70bb44c-0 jxpCgO base-text\")\n",
    "    for Sui_get in Sui_span:\n",
    "        Sui_out = Sui_get.get_text()\n",
    "        Sui_str = Sui_out[index:]\n",
    "        SUI = float(Sui_str)\n",
    "        print(\"SUI = \", SUI)\n",
    "\n",
    "def TheGraph():\n",
    "    Grt_res = requests.get('https://coinmarketcap.com/currencies/the-graph/')\n",
    "    Grt_soup = BeautifulSoup(Grt_res.text, 'lxml')\n",
    "    \n",
    "    Grt_span = Grt_soup.find_all(\"span\", class_= \"sc-f70bb44c-0 jxpCgO base-text\")\n",
    "    for Grt_get in Grt_span:\n",
    "        Grt_out = Grt_get.get_text()\n",
    "        Grt_str = Grt_out[index:]\n",
    "        GRT = float(Grt_str)\n",
    "        print(\"GRT = \", GRT)"
   ]
  },
  {
   "cell_type": "code",
   "execution_count": 8,
   "metadata": {},
   "outputs": [
    {
     "ename": "KeyError",
     "evalue": "'Worksheet L10 does not exist.'",
     "output_type": "error",
     "traceback": [
      "\u001b[1;31m---------------------------------------------------------------------------\u001b[0m",
      "\u001b[1;31mKeyError\u001b[0m                                  Traceback (most recent call last)",
      "Cell \u001b[1;32mIn[8], line 10\u001b[0m\n\u001b[0;32m      7\u001b[0m worksheet_name \u001b[38;5;241m=\u001b[39m workbook[\u001b[38;5;124m\"\u001b[39m\u001b[38;5;124mPrice\u001b[39m\u001b[38;5;124m\"\u001b[39m]\n\u001b[0;32m      9\u001b[0m \u001b[38;5;66;03m#Access a specific cell\u001b[39;00m\n\u001b[1;32m---> 10\u001b[0m cell_Link \u001b[38;5;241m=\u001b[39m workbook[\u001b[38;5;124m\"\u001b[39m\u001b[38;5;124mL10\u001b[39m\u001b[38;5;124m\"\u001b[39m]\u001b[38;5;241m.\u001b[39mvalue\n\u001b[0;32m     12\u001b[0m \u001b[38;5;28mprint\u001b[39m(\u001b[38;5;124m\"\u001b[39m\u001b[38;5;124mLink in excel= \u001b[39m\u001b[38;5;124m\"\u001b[39m, cell_Link)\n\u001b[0;32m     13\u001b[0m workbook\u001b[38;5;241m.\u001b[39mclose()\n",
      "File \u001b[1;32mc:\\Users\\Asus\\anaconda3\\Lib\\site-packages\\openpyxl\\workbook\\workbook.py:288\u001b[0m, in \u001b[0;36mWorkbook.__getitem__\u001b[1;34m(self, key)\u001b[0m\n\u001b[0;32m    286\u001b[0m     \u001b[38;5;28;01mif\u001b[39;00m sheet\u001b[38;5;241m.\u001b[39mtitle \u001b[38;5;241m==\u001b[39m key:\n\u001b[0;32m    287\u001b[0m         \u001b[38;5;28;01mreturn\u001b[39;00m sheet\n\u001b[1;32m--> 288\u001b[0m \u001b[38;5;28;01mraise\u001b[39;00m \u001b[38;5;167;01mKeyError\u001b[39;00m(\u001b[38;5;124m\"\u001b[39m\u001b[38;5;124mWorksheet \u001b[39m\u001b[38;5;132;01m{0}\u001b[39;00m\u001b[38;5;124m does not exist.\u001b[39m\u001b[38;5;124m\"\u001b[39m\u001b[38;5;241m.\u001b[39mformat(key))\n",
      "\u001b[1;31mKeyError\u001b[0m: 'Worksheet L10 does not exist.'"
     ]
    }
   ],
   "source": [
    "#GET data from Excel\n",
    "excel_path = r\"C:\\Users\\Asus\\Desktop\\New Microsoft Excel Worksheet.xlsx\"\n",
    "#Load the workbook\n",
    "workbook = load_workbook(excel_path)\n",
    "\n",
    "#Select the worksheet (by name)\n",
    "worksheet_name = workbook[\"Price\"]\n",
    "\n",
    "#Access a specific cell\n",
    "cell_Link = workbook[\"L10\"].value\n",
    "\n",
    "print(\"Link in excel= \", cell_Link)\n",
    "workbook.close()"
   ]
  },
  {
   "cell_type": "code",
   "execution_count": 9,
   "metadata": {},
   "outputs": [
    {
     "name": "stdout",
     "output_type": "stream",
     "text": [
      "BTC=  65203.28\n"
     ]
    }
   ],
   "source": [
    "excel_path = r\"C:\\Users\\Asus\\Desktop\\New Microsoft Excel Worksheet.xlsx\"\n",
    "workbook = load_workbook(r'C:\\Users\\Asus\\Desktop\\New Microsoft Excel Worksheet.xlsx')\n",
    "worksheet = workbook[\"Price\"]\n",
    "\n",
    "# Call the Bitcoin function and store the returned value\n",
    "btc_value = Bitcoin()\n",
    "\n",
    "# Write the value to a specific cell, for example, B2\n",
    "worksheet['B1'] = btc_value\n",
    "\n",
    "# Save the workbook\n",
    "workbook.save(excel_path)\n",
    "workbook.close()"
   ]
  }
 ],
 "metadata": {
  "kernelspec": {
   "display_name": "base",
   "language": "python",
   "name": "python3"
  },
  "language_info": {
   "codemirror_mode": {
    "name": "ipython",
    "version": 3
   },
   "file_extension": ".py",
   "mimetype": "text/x-python",
   "name": "python",
   "nbconvert_exporter": "python",
   "pygments_lexer": "ipython3",
   "version": "3.11.7"
  }
 },
 "nbformat": 4,
 "nbformat_minor": 2
}
