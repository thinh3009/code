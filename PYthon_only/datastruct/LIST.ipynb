{
 "cells": [
  {
   "cell_type": "code",
   "execution_count": 2,
   "metadata": {},
   "outputs": [
    {
     "name": "stdout",
     "output_type": "stream",
     "text": [
      "2\n",
      "['python', 'python', 5, 6, 5, 4, 4, 6, 5, 4, 3, 1]\n"
     ]
    }
   ],
   "source": [
    "lst=[1,3,4,5,6,4,4,5,6,5,'python','python']\n",
    "dem=lst.count('python')\n",
    "print(dem)\n",
    "lst.reverse()\n",
    "print(lst)\n"
   ]
  },
  {
   "cell_type": "code",
   "execution_count": 1,
   "metadata": {},
   "outputs": [
    {
     "name": "stdout",
     "output_type": "stream",
     "text": [
      "10\n",
      "[1, 3, 4, 5, 6, 4, 4, 5, 6, 5, 'python', 'python', 'go home']\n"
     ]
    }
   ],
   "source": [
    "#tim kiem gia tri trong list\n",
    "lst=[1,3,4,5,6,4,4,5,6,5,'python','python']\n",
    "print(lst.index('python'))\n",
    "lst2=['go home']\n",
    "#mo rong list\n",
    "lst.extend(lst2)\n",
    "print(lst)\n"
   ]
  },
  {
   "cell_type": "code",
   "execution_count": 2,
   "metadata": {},
   "outputs": [
    {
     "ename": "ValueError",
     "evalue": "invalid literal for int() with base 10: ''",
     "output_type": "error",
     "traceback": [
      "\u001b[1;31m---------------------------------------------------------------------------\u001b[0m",
      "\u001b[1;31mValueError\u001b[0m                                Traceback (most recent call last)",
      "Cell \u001b[1;32mIn[2], line 2\u001b[0m\n\u001b[0;32m      1\u001b[0m \u001b[38;5;28;01mfrom\u001b[39;00m \u001b[38;5;21;01mrandom\u001b[39;00m \u001b[38;5;28;01mimport\u001b[39;00m  randrange\n\u001b[1;32m----> 2\u001b[0m n\u001b[38;5;241m=\u001b[39m\u001b[38;5;28;43mint\u001b[39;49m\u001b[43m(\u001b[49m\u001b[38;5;28;43minput\u001b[39;49m\u001b[43m(\u001b[49m\u001b[38;5;124;43m'\u001b[39;49m\u001b[38;5;124;43mnhap n: \u001b[39;49m\u001b[38;5;124;43m'\u001b[39;49m\u001b[43m)\u001b[49m\u001b[43m)\u001b[49m\n\u001b[0;32m      3\u001b[0m lst\u001b[38;5;241m=\u001b[39m[\u001b[38;5;241m0\u001b[39m]\u001b[38;5;241m*\u001b[39mn\n\u001b[0;32m      4\u001b[0m \u001b[38;5;28mprint\u001b[39m(lst)\n",
      "\u001b[1;31mValueError\u001b[0m: invalid literal for int() with base 10: ''"
     ]
    }
   ],
   "source": [
    "from random import  randrange\n",
    "n=int(input('nhap n: '))\n",
    "lst=[0]*n\n",
    "print(lst)\n",
    "for i in range (n):\n",
    "    # lst.append(randrange(i))\n",
    "    lst[i]=randrange(1,100)\n",
    "print(lst)\n"
   ]
  },
  {
   "cell_type": "code",
   "execution_count": null,
   "metadata": {},
   "outputs": [
    {
     "name": "stdout",
     "output_type": "stream",
     "text": [
      "[0, 4, 3, 2, 1, 5, 10, 34]\n",
      "1\n",
      "8\n"
     ]
    }
   ],
   "source": [
    "lst1=[0,4,3,2,1,5,10]\n",
    "# print(min(lst1))\n",
    "# print(max(lst1))\n",
    "# chieudai=len(lst1)\n",
    "# print(chieudai)\n",
    "lst1.append(34)\n",
    "print(lst1)\n",
    "dem=lst1.count(5)\n",
    "print(dem)\n",
    "print(len(lst1))"
   ]
  },
  {
   "cell_type": "code",
   "execution_count": null,
   "metadata": {},
   "outputs": [
    {
     "name": "stdout",
     "output_type": "stream",
     "text": [
      "0\n",
      "[0, 40, 4, 3, 2, 1, 5, 10, 34]\n"
     ]
    }
   ],
   "source": [
    "#chen list\n",
    "print(lst1[0])\n",
    "lst1.insert(1,40)\n",
    "print(lst1)"
   ]
  },
  {
   "cell_type": "code",
   "execution_count": null,
   "metadata": {},
   "outputs": [
    {
     "name": "stdout",
     "output_type": "stream",
     "text": [
      "5\n"
     ]
    }
   ],
   "source": [
    "#tim vi tri index\n",
    "print(lst1.index(1))"
   ]
  },
  {
   "attachments": {},
   "cell_type": "markdown",
   "metadata": {},
   "source": [
    "* bai tap thuc hanh"
   ]
  },
  {
   "attachments": {},
   "cell_type": "markdown",
   "metadata": {},
   "source": [
    "1. viet chuong trinh nhap danh sach list co:\n",
    "- tao ra 1 list moi binh phuong cac phan tu\n",
    "- xac dinh co bao nhieu ptu lon hon 50"
   ]
  },
  {
   "cell_type": "code",
   "execution_count": null,
   "metadata": {},
   "outputs": [
    {
     "name": "stdout",
     "output_type": "stream",
     "text": [
      "['3', '4']\n",
      "[9, 16]\n",
      "co 0 phan tu lon hon 50\n"
     ]
    }
   ],
   "source": [
    "n = int(input(\"Nhập số phần tử của list: \"))\n",
    "lst = []\n",
    "for i in range(n):\n",
    "    val = input(f'Nhập giá trị thứ {i+1}: ')\n",
    "    lst.append(val)\n",
    "print(lst)\n",
    "lst2=[]\n",
    "for i in lst:\n",
    "    lst2.append(int(i)**2)\n",
    "print(lst2)\n",
    "dem=0\n",
    "for l in lst2:\n",
    "    if int(l)>50:\n",
    "        dem+=1\n",
    "print(f'co {dem} phan tu lon hon 50')\n",
    "\n"
   ]
  },
  {
   "cell_type": "code",
   "execution_count": null,
   "metadata": {},
   "outputs": [
    {
     "name": "stdout",
     "output_type": "stream",
     "text": [
      "['4', '5', '6']\n",
      "[4, 4, 4]\n"
     ]
    }
   ],
   "source": [
    "lst=[]\n",
    "n=int(input('nhap so phan tu: '))\n",
    "for i in range(n):\n",
    "    k=(input(f'nhap gia tri thu {i+1}: '))\n",
    "    lst.append(k)\n",
    "print(lst)\n",
    "lst2=[]\n",
    "for i in lst:\n",
    "    lst2.append(int(i)**2)\n",
    "print(lst2)\n"
   ]
  },
  {
   "attachments": {},
   "cell_type": "markdown",
   "metadata": {},
   "source": [
    "2. viet chuong trinh nhap vao 1 list\n",
    "- in ra co bao nhieu so nho hon 5\n",
    "- in ra vi tri index cua so do"
   ]
  },
  {
   "cell_type": "code",
   "execution_count": null,
   "metadata": {},
   "outputs": [
    {
     "name": "stdout",
     "output_type": "stream",
     "text": [
      "['4', '3', '2']\n",
      "co 3 phan tu nho hon 5\n",
      "vi tri nho hon 5 [0, 1, 2]\n"
     ]
    }
   ],
   "source": [
    "from random import *\n",
    "n = int(input(\"Nhập số phần tử của list: \"))\n",
    "lst = []\n",
    "for i in range(n):\n",
    "    val = input(f'Nhập giá trị thứ {i+1}: ')\n",
    "    lst.append(val)\n",
    "print(lst)\n",
    "dem=0\n",
    "for i in lst:\n",
    "    if int(i)<5:\n",
    "        dem+=1\n",
    "print(f'co {dem} phan tu nho hon 5')\n",
    "lstIn=[]\n",
    "dem=0\n",
    "for j  in range(len(lst)):\n",
    "    if int(lst[j])<5:\n",
    "        dem+=1\n",
    "        lstIn.append(j)\n",
    "print('vi tri nho hon 5',lstIn)\n",
    "\n",
    "    "
   ]
  },
  {
   "attachments": {},
   "cell_type": "markdown",
   "metadata": {},
   "source": [
    "3. viet chuong trinh in so lon thu 2 va so nho thu 2\n",
    "- in ra vi tri index"
   ]
  },
  {
   "cell_type": "code",
   "execution_count": null,
   "metadata": {},
   "outputs": [
    {
     "name": "stdout",
     "output_type": "stream",
     "text": [
      "['1', '2', '3', '4']\n",
      "['1', '2', '3']\n",
      "gia tri lon thu 2 trong list la: 3\n",
      "['2', '3', '4']\n",
      "gia tri nho thu 2 trong list la: 2\n",
      "[2]\n",
      "[2, 1]\n"
     ]
    }
   ],
   "source": [
    "n=int(input('nhap so phan tu'))\n",
    "lst=[]\n",
    "lst_max=[]\n",
    "for i in range(n):\n",
    "    k=input(f'nhap phan tu thu {i+1}:')\n",
    "    lst.append(k)\n",
    "print(lst)\n",
    "#lap de bo phan tu to nhat se tim ra phan tu to thu 2\n",
    "for i in lst:\n",
    "    if i==max(lst):\n",
    "        continue\n",
    "    else:\n",
    "        lst_max.append(i)\n",
    "print(lst_max)\n",
    "print(f'gia tri lon thu 2 trong list la: {max(lst_max)}')\n",
    "lst_min=[]\n",
    "for i in lst:\n",
    "    if i==min(lst):\n",
    "        continue\n",
    "    else:\n",
    "        lst_min.append(i)\n",
    "print(lst_min)\n",
    "print(f'gia tri nho thu 2 trong list la: {min(lst_min)}')\n",
    "lst_index=[]\n",
    "for j in range(len(lst)):\n",
    "    if lst[j]==max(lst_max):\n",
    "        lst_index.append(j)\n",
    "print(lst_index)\n",
    "for k in range(len(lst)):\n",
    "    if lst[k]==min(lst_min):\n",
    "        lst_index.append(k)\n",
    "print(lst_index)"
   ]
  },
  {
   "cell_type": "markdown",
   "metadata": {},
   "source": [
    "4. viet chuong trinh in ra ket qua"
   ]
  },
  {
   "cell_type": "code",
   "execution_count": null,
   "metadata": {},
   "outputs": [
    {
     "name": "stdout",
     "output_type": "stream",
     "text": [
      "2 + 5 + 7 \n",
      "14\n",
      "sai roi,cau dung la:  14\n",
      "5 * 10 \n",
      "50\n",
      "sai roi,cau dung la:  50\n",
      "sqrt(16) \n",
      "4.0\n",
      "sai roi,cau dung la:  4.0\n",
      "12 % 2 \n",
      "0\n",
      "sai roi,cau dung la:  0\n",
      "5 // 2 \n",
      "2\n",
      "sai roi,cau dung la:  2\n"
     ]
    }
   ],
   "source": [
    "from math import *\n",
    "q = [\"2 + 5 + 7 =\",\"5 * 10 =\", \"sqrt(16) =\", \"12 % 2 =\", \"5 // 2 =\"]\n",
    "for i in q:\n",
    "    #print(i)\n",
    "    #ham xoa dau trong string\n",
    "    print(i.strip(\"=\"))\n",
    "    ans=eval(i.strip(\"=\"))\n",
    "    print(ans)\n",
    "    n=float(input(i))\n",
    "    if n==ans:\n",
    "        print('dung roi')\n",
    "    else:\n",
    "        print('sai roi,cau dung la: ',ans)"
   ]
  },
  {
   "cell_type": "markdown",
   "metadata": {},
   "source": [
    "* LIST DA CHIEU\n"
   ]
  },
  {
   "cell_type": "code",
   "execution_count": null,
   "metadata": {},
   "outputs": [
    {
     "name": "stdout",
     "output_type": "stream",
     "text": [
      "[[1, 5, 7], [3, 4, 5], [7, 6, 3], [1, 5, 6]]\n",
      "1 5 7 \n",
      "3 4 5 \n",
      "7 6 3 \n",
      "1 5 6 \n"
     ]
    }
   ],
   "source": [
    "matrix=[\n",
    "    [1,5,7],\n",
    "    [3,4,5],\n",
    "    [7,6,3],\n",
    "    [1,5,6]\n",
    "]\n",
    "print(matrix)\n",
    "for dong in matrix:\n",
    "    for element in dong:\n",
    "        print(element,end=\" \")\n",
    "    print()"
   ]
  },
  {
   "cell_type": "code",
   "execution_count": null,
   "metadata": {},
   "outputs": [
    {
     "name": "stdout",
     "output_type": "stream",
     "text": [
      "[[1, 5, 7], [300, 4, 5], [7, 6, 356], [1, 55, 6]]\n",
      "1     5     7     \n",
      "300   4     5     \n",
      "7     6     356   \n",
      "1     55    6     \n"
     ]
    }
   ],
   "source": [
    "matrix=[\n",
    "    [1,5,7],\n",
    "    [300,4,5],\n",
    "    [7,6,356],\n",
    "    [1,55,6]\n",
    "]\n",
    "print(matrix)\n",
    "for dong in matrix:\n",
    "    for element in dong:\n",
    "        print(\"{:<5}\".format(element),end=' ')\n",
    "    print()"
   ]
  },
  {
   "cell_type": "markdown",
   "metadata": {},
   "source": [
    "* tao list da chieu co hag cot cho trc"
   ]
  },
  {
   "cell_type": "code",
   "execution_count": null,
   "metadata": {},
   "outputs": [
    {
     "name": "stdout",
     "output_type": "stream",
     "text": [
      "[[1, 1, 1], [1, 1, 1], [1, 1, 1], [1, 1, 1]]\n",
      "1 1 1 \n",
      "1 1 1 \n",
      "1 1 1 \n",
      "1 1 1 \n"
     ]
    }
   ],
   "source": [
    "hang=4\n",
    "cot=3\n",
    "lst=[[1]*cot]*hang\n",
    "print(lst)\n",
    "for i in lst:\n",
    "    for j in i:\n",
    "        print(j,end=' ')\n",
    "    print()"
   ]
  },
  {
   "cell_type": "markdown",
   "metadata": {},
   "source": [
    "* tao ma tran co phan tu ngau nhien"
   ]
  },
  {
   "cell_type": "code",
   "execution_count": null,
   "metadata": {},
   "outputs": [
    {
     "name": "stdout",
     "output_type": "stream",
     "text": [
      "[[12, 2, 2], [16, 11, 20]]\n",
      "12   2    2    \n",
      "16   11   20   \n"
     ]
    }
   ],
   "source": [
    "from random import randrange\n",
    "arr=[]\n",
    "row=int(input('nhap so hang: '))\n",
    "collumn=int(input('nhap so cot: '))\n",
    "for i in range(row):\n",
    "    addrow=[]\n",
    "    for j in range(collumn):\n",
    "        addrow.append(randrange(0,21))\n",
    "    arr.append(addrow)\n",
    "print(arr)\n",
    "for i in arr:\n",
    "    for j in i:\n",
    "        print(\"{:<4}\".format(j),end=' ')\n",
    "    print()"
   ]
  },
  {
   "cell_type": "markdown",
   "metadata": {},
   "source": [
    "* xuat dong cot"
   ]
  },
  {
   "cell_type": "code",
   "execution_count": null,
   "metadata": {},
   "outputs": [
    {
     "name": "stdout",
     "output_type": "stream",
     "text": [
      "[[16, 9, 9], [12, 13, 12], [0, 6, 13], [16, 2, 20]]\n",
      "16\t9\t9\t\n",
      "12\t13\t12\t\n",
      "0\t6\t13\t\n",
      "16\t2\t20\t\n"
     ]
    }
   ],
   "source": [
    "from random import randrange\n",
    "arr=[]\n",
    "row=4\n",
    "collumn=3\n",
    "for i in range(row):\n",
    "    addrow=[]\n",
    "    for j in range(collumn):\n",
    "        addrow.append(randrange(0,21))\n",
    "    arr.append(addrow)\n",
    "print(arr)\n",
    "for i in range(len(arr)):\n",
    "    for j in range(len(arr[i])):\n",
    "        print(arr[i][j],end='\\t')\n",
    "    print()\n"
   ]
  },
  {
   "cell_type": "code",
   "execution_count": null,
   "metadata": {},
   "outputs": [
    {
     "name": "stdout",
     "output_type": "stream",
     "text": [
      "[[85, 90, 63], [16, 74, 95], [52, 47, 57], [91, 83, 56]]\n",
      "85 \t90 \t63 \t\n",
      "16 \t74 \t95 \t\n",
      "52 \t47 \t57 \t\n",
      "91 \t83 \t56 \t\n",
      "[16, 74, 95]\n",
      "[90, 74, 47]\n",
      "[91, 83, 56]\n",
      "The maximum value in the 2D array is 95\n"
     ]
    }
   ],
   "source": [
    "from random import randrange\n",
    "arr=[]\n",
    "cot=3\n",
    "hang=4\n",
    "for i in range(hang):\n",
    "    addhang=[]\n",
    "    for j in range(cot):\n",
    "        addhang.append(randrange(1,100))\n",
    "    arr.append(addhang)\n",
    "print(arr)\n",
    "for i in range(len(arr)):\n",
    "    for j in range(len(arr[i])):\n",
    "        print(arr[i][j],end=' \\t')\n",
    "    print()\n",
    "\n",
    "#xuat hang bat ki\n",
    "row=int(input('nhap so hang: '))\n",
    "# col=int(input('nhap so cot: '))\n",
    "index_hang=[]\n",
    "for i in range(len(arr[row])):\n",
    "    index_hang.append(arr[row][i])\n",
    "print(index_hang)\n",
    "#xuat cot bat ki\n",
    "col=int(input('nhap so cot: '))\n",
    "index_cot=[]\n",
    "for i in range(len(arr[col])):\n",
    "    index_cot.append(arr[i][col])\n",
    "print(index_cot)\n",
    "\n",
    "#tim list co gia tri lon nhat trong mang\n",
    "max_arr=max(arr)\n",
    "max_value=[]\n",
    "print(max_arr)\n",
    "#gia tri lon nhat\n",
    "max_value = max(max(sublist) for sublist in arr)\n",
    "print(f\"The maximum value in the 2D array is {max_value}\")"
   ]
  },
  {
   "cell_type": "code",
   "execution_count": null,
   "metadata": {},
   "outputs": [
    {
     "name": "stdout",
     "output_type": "stream",
     "text": [
      "[[39, 39], [39, 39], [39, 39]]\n"
     ]
    }
   ],
   "source": [
    "# hang=4\n",
    "# cot=3\n",
    "# lst=[[1]*cot]*hang\n",
    "# print(lst)\n",
    "# for i in lst:\n",
    "#     for j in i:\n",
    "#         print(j,end=' ')\n",
    "#     print()\n",
    "\n",
    "from random import randrange\n",
    "\n",
    "hang=3\n",
    "cot=2\n",
    "arr=[[randrange(1,100)]*cot]*hang\n",
    "print(arr)\n",
    "\n"
   ]
  }
 ],
 "metadata": {
  "kernelspec": {
   "display_name": "Python 3",
   "language": "python",
   "name": "python3"
  },
  "language_info": {
   "codemirror_mode": {
    "name": "ipython",
    "version": 3
   },
   "file_extension": ".py",
   "mimetype": "text/x-python",
   "name": "python",
   "nbconvert_exporter": "python",
   "pygments_lexer": "ipython3",
   "version": "3.10.10"
  },
  "orig_nbformat": 4
 },
 "nbformat": 4,
 "nbformat_minor": 2
}
