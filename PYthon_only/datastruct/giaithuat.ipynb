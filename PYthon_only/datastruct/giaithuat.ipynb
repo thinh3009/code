{
 "cells": [
  {
   "cell_type": "code",
   "execution_count": 2,
   "metadata": {},
   "outputs": [
    {
     "name": "stdout",
     "output_type": "stream",
     "text": [
      "[1, 2, 3, 4, 5, 6, 7, 8]\n"
     ]
    }
   ],
   "source": [
    "#sap xep noi bot\n",
    "m=[6,5,3,1,8,7,2,4]\n",
    "lap=range(len(m)-1,-1,-1)\n",
    "for i in lap:\n",
    "    for j in range (0,i,1):\n",
    "        if (m[j]>m[j+1]):\n",
    "            t=m[j]\n",
    "            m[j]=m[j+1]\n",
    "            m[j+1]=t\n",
    "print(m)"
   ]
  },
  {
   "cell_type": "code",
   "execution_count": 2,
   "metadata": {},
   "outputs": [
    {
     "name": "stdout",
     "output_type": "stream",
     "text": [
      "[1, 2, 3, 4, 5, 6, 7, 8]\n"
     ]
    }
   ],
   "source": [
    "#insert sort\n",
    "m=[5,6,3,1,8,7,2,4]\n",
    "#vd:k=2,x=3\n",
    "#i=2-1=1,ds[i]=6>3\n",
    "#\n",
    "def chen(ds,x,k):\n",
    "    i=k-1\n",
    "    while(ds[i]>x) and(i>=0):\n",
    "        #neu ds[i]=6>x=3\n",
    "        #thi se thay doi vi tri ds[i+1]=3 thay cho ds[i]=6 hien tai\n",
    "        ds[i+1]=ds[i]\n",
    "        i=i-1\n",
    "    #lap xong ds[i+1] se bang x\n",
    "    ds[i+1]=x\n",
    "for j in range (1,len(m),1):\n",
    "    chen(m,m[j],j)\n",
    "print(m)"
   ]
  },
  {
   "cell_type": "code",
   "execution_count": 2,
   "metadata": {},
   "outputs": [
    {
     "name": "stdout",
     "output_type": "stream",
     "text": [
      "[1, 2, 3, 4, 5, 6, 7, 8]\n"
     ]
    }
   ],
   "source": [
    "#select sort:chon phan tu nho nhat giu lai so sanh voi cac ptu khac r sap xep\n",
    "m=[6,5,3,1,8,7,2,4]\n",
    "for i in range (0,len(m)-1):\n",
    "    #xet vi tri nho nhat la vi tri dau tien\n",
    "    vitrinhonhat=i\n",
    "    #tu vi tri dau tien xac dinh bang cach lap tu vi tri thu 2 den cuoi\n",
    "    for j in range (i+1,len(m)):\n",
    "        #neu vi tri tim thay nho hon vi tri hien tai thi doi cho\n",
    "        if(m[j]<m[vitrinhonhat]):\n",
    "            vitrinhonhat=j\n",
    "    #sau khi tim thay se hoan doi bang bien trung gian\n",
    "    tg=m[vitrinhonhat]\n",
    "    m[vitrinhonhat]=m[i]\n",
    "    m[i]=tg\n",
    "print(m)"
   ]
  },
  {
   "cell_type": "code",
   "execution_count": 3,
   "metadata": {},
   "outputs": [
    {
     "name": "stdout",
     "output_type": "stream",
     "text": [
      "[1, 2, 3, 5, 6, 7]\n"
     ]
    }
   ],
   "source": [
    "#merge sort (sap xep tron):\n",
    "#cho 2 ds da sap xep sau do so sanh 2 ds boc ra va sap xep vao ds moi\n",
    "a=[1,3,5,7]\n",
    "b=[2,6]\n",
    "c=[]\n",
    "while(a!=[])and(b!=[]):\n",
    "    if(a[0]<b[0]):\n",
    "        c.append(a[0])\n",
    "        a=a[1:]\n",
    "    else:\n",
    "        c.append(b[0])\n",
    "        b=b[1:]\n",
    "if (a!=[]):\n",
    "    c=c+a\n",
    "if(b!=[]):\n",
    "    c=c+b\n",
    "print(c)"
   ]
  },
  {
   "cell_type": "code",
   "execution_count": 17,
   "metadata": {},
   "outputs": [
    {
     "name": "stdout",
     "output_type": "stream",
     "text": [
      "[5, 6, 7, 15, 16, 18]\n"
     ]
    }
   ],
   "source": [
    "#heap sort(sap xep vun dong)\n",
    "m=[7,5,16,15,6,18]\n",
    "def hoan_doi(ds,i,j):\n",
    "    trung_gian=ds[i]\n",
    "    ds[i]=ds[j]\n",
    "    ds[j]=trung_gian\n",
    "def vun_dong(ds,g,l):\n",
    "    if (2*g+1==l):\n",
    "        if(ds[2*g+1]>ds[g]):\n",
    "            hoan_doi(ds,g,2*g+1)\n",
    "    else:\n",
    "        if(ds[2*g+1]>ds[2*g+2]):\n",
    "            j=2*g+1\n",
    "        else:\n",
    "            j=2*g+2\n",
    "        if ds[g]<ds[j]:\n",
    "            hoan_doi(ds,g,j)\n",
    "def vun_cay(ds):\n",
    "    l=len(ds)-1\n",
    "    g=len(ds)//2-1\n",
    "    while(l>=0):\n",
    "        for j in range (g,-1,-1):\n",
    "            vun_dong(ds,j,l)\n",
    "        hoan_doi(ds,0,l)\n",
    "        l=l-1\n",
    "        g=(l+1)//2-1\n",
    "vun_cay(m)\n",
    "print(m)\n",
    "# vun_dong(m,2,5)\n",
    "# vun_dong(m,1,5)\n",
    "# vun_dong(m,0,5)\n",
    "# hoan_doi(m,0,5)  \n",
    "# print(m)       \n",
    "   "
   ]
  },
  {
   "cell_type": "code",
   "execution_count": 10,
   "metadata": {},
   "outputs": [
    {
     "name": "stdout",
     "output_type": "stream",
     "text": [
      "[85, 99, 20, 60, 75, 3, 41, 46, 50, 54, 6, 58, 73, 97, 95, 58, 16, 8, 31, 68]\n",
      "stack sau lenh while:  []\n",
      "gia tri lon nhat:  99\n",
      "[0, 1, 1, 1]\n",
      "1110\n"
     ]
    }
   ],
   "source": [
    "#stack\n",
    "import numpy.random as rd\n",
    "#tao mang tu 0 den 100 lay ngau nhien 20 ptu\n",
    "stack=rd.randint(100,size=(20))\n",
    "#ep kieu ve list\n",
    "stack=list(stack)\n",
    "print(stack)\n",
    "#m la ptu boc ra dau tien trong stack\n",
    "m=stack.pop()\n",
    "#vong lap neu stack khac rong\n",
    "while(stack!=[]):\n",
    "    #doc ptu tren dinh luu vao b\n",
    "    b=stack.pop()\n",
    "    #ktra gia tri lon nhat\n",
    "    if (b>m):\n",
    "        m=b\n",
    "print(\"stack sau lenh while: \",stack)\n",
    "print('gia tri lon nhat: ',m)\n",
    "\n",
    "#chuyen thap phan sang nhi phan\n",
    "s=int(input(\"nhap so muon chuyen: \"))\n",
    "#tao stack dua vao\n",
    "stack=[]\n",
    "#ktra so nhap vao khac 0\n",
    "while(s!=0):\n",
    "    #chia lay du\n",
    "    sodu=s%2\n",
    "    #xep vao stack\n",
    "    stack.append(sodu)\n",
    "    #chia lay nguyen lap cho den khi bang 0 thi het\n",
    "    s=s//2\n",
    "print(stack)\n",
    "#doc trong stack\n",
    "b=''\n",
    "while(stack!=[]):\n",
    "    b=b+str(stack.pop())\n",
    "print(b)"
   ]
  },
  {
   "cell_type": "code",
   "execution_count": 3,
   "metadata": {},
   "outputs": [
    {
     "name": "stdout",
     "output_type": "stream",
     "text": [
      "    cars  passings\n",
      "0    BMW         3\n",
      "1  Volvo         7\n",
      "2   Ford         2\n"
     ]
    }
   ],
   "source": [
    "import pandas\n",
    "\n",
    "mydataset = {\n",
    "  'cars': [\"BMW\", \"Volvo\", \"Ford\"],\n",
    "  'passings': [3, 7, 2]\n",
    "}\n",
    "\n",
    "myvar = pandas.DataFrame(mydataset)\n",
    "\n",
    "print(myvar)"
   ]
  },
  {
   "cell_type": "code",
   "execution_count": 1,
   "metadata": {},
   "outputs": [
    {
     "name": "stdout",
     "output_type": "stream",
     "text": [
      "1.5.0\n"
     ]
    }
   ],
   "source": [
    "import pandas as pd\n",
    "\n",
    "print(pd.__version__)"
   ]
  }
 ],
 "metadata": {
  "kernelspec": {
   "display_name": "Python 3",
   "language": "python",
   "name": "python3"
  },
  "language_info": {
   "codemirror_mode": {
    "name": "ipython",
    "version": 3
   },
   "file_extension": ".py",
   "mimetype": "text/x-python",
   "name": "python",
   "nbconvert_exporter": "python",
   "pygments_lexer": "ipython3",
   "version": "3.11.4"
  },
  "orig_nbformat": 4,
  "vscode": {
   "interpreter": {
    "hash": "65ba4450cd36bd8bae436019657a54a1950cf0ce1a6e072b8a59defe0a7814ed"
   }
  }
 },
 "nbformat": 4,
 "nbformat_minor": 2
}
