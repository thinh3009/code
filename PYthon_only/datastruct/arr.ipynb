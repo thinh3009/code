{
 "cells": [
  {
   "cell_type": "code",
   "execution_count": 1,
   "metadata": {},
   "outputs": [
    {
     "name": "stdout",
     "output_type": "stream",
     "text": [
      "hello\n"
     ]
    }
   ],
   "source": [
    "print(\"hello\")"
   ]
  },
  {
   "cell_type": "code",
   "execution_count": 24,
   "metadata": {},
   "outputs": [
    {
     "name": "stdout",
     "output_type": "stream",
     "text": [
      "[4, 9, 1, 1, 3]\n",
      "[4, 9, 1]\n"
     ]
    }
   ],
   "source": [
    "import random\n",
    "def createArr(n):\n",
    "    mang=[]\n",
    "    for i in range(n):\n",
    "        mang.append(random.randint(1,10))\n",
    "    return mang\n",
    "if __name__==\"__main__\":\n",
    "    n=int(input(\"nhap so phan tu: \"))\n",
    "    mang1=createArr(n)\n",
    "    print(mang1)\n",
    "    print(mang1[0:3])\n"
   ]
  },
  {
   "cell_type": "code",
   "execution_count": 34,
   "metadata": {},
   "outputs": [
    {
     "name": "stdout",
     "output_type": "stream",
     "text": [
      "i\n",
      "[1, 3, 5, 7, 9]\n",
      "None\n"
     ]
    }
   ],
   "source": [
    "def arr(n):\n",
    "    mang=['i', [1, 3, 5, 7, 9]]\n",
    "    for i in mang:\n",
    "        print(i)\n",
    "    return mang.append(n)\n",
    "    \n",
    "if __name__==\"__main__\":\n",
    "    n=int(input(\"nhap so muon them: \"))\n",
    "    print(arr(n))\n"
   ]
  },
  {
   "cell_type": "code",
   "execution_count": 35,
   "metadata": {},
   "outputs": [
    {
     "name": "stdout",
     "output_type": "stream",
     "text": [
      "i\n",
      "[1, 3, 5, 7, 9]\n",
      "['i', [1, 3, 5, 7, 9, 5]]\n"
     ]
    }
   ],
   "source": [
    "def arr(n):\n",
    "    mang=['i', [1, 3, 5, 7, 9]]\n",
    "    for i in mang:\n",
    "        print(i)\n",
    "    mang[1].append(n)\n",
    "    return mang\n",
    "    \n",
    "if __name__==\"__main__\":\n",
    "    n=int(input(\"nhap so muon them: \"))\n",
    "    print(arr(n))"
   ]
  },
  {
   "cell_type": "markdown",
   "metadata": {},
   "source": [
    "* Viet chuong trinh nhap list\n",
    "1. in ra co bao nhieu so nho hon 5\n",
    "2. in ra vitri index"
   ]
  },
  {
   "cell_type": "code",
   "execution_count": 47,
   "metadata": {},
   "outputs": [
    {
     "name": "stdout",
     "output_type": "stream",
     "text": [
      "co 3 ptu nho hon 5\n"
     ]
    },
    {
     "ename": "IndexError",
     "evalue": "list index out of range",
     "output_type": "error",
     "traceback": [
      "\u001b[1;31m---------------------------------------------------------------------------\u001b[0m",
      "\u001b[1;31mIndexError\u001b[0m                                Traceback (most recent call last)",
      "Cell \u001b[1;32mIn[47], line 20\u001b[0m\n\u001b[0;32m     18\u001b[0m \u001b[38;5;28;01mif\u001b[39;00m \u001b[38;5;18m__name__\u001b[39m\u001b[38;5;241m==\u001b[39m\u001b[38;5;124m\"\u001b[39m\u001b[38;5;124m__main__\u001b[39m\u001b[38;5;124m\"\u001b[39m:\n\u001b[0;32m     19\u001b[0m     n\u001b[38;5;241m=\u001b[39m\u001b[38;5;28mint\u001b[39m(\u001b[38;5;28minput\u001b[39m(\u001b[38;5;124m\"\u001b[39m\u001b[38;5;124mnhap so phan tu: \u001b[39m\u001b[38;5;124m\"\u001b[39m))\n\u001b[1;32m---> 20\u001b[0m     \u001b[38;5;28mprint\u001b[39m(\u001b[43mbai4\u001b[49m\u001b[43m(\u001b[49m\u001b[43mn\u001b[49m\u001b[43m)\u001b[49m)\n",
      "Cell \u001b[1;32mIn[47], line 12\u001b[0m, in \u001b[0;36mbai4\u001b[1;34m(n)\u001b[0m\n\u001b[0;32m     10\u001b[0m \u001b[38;5;28;01mif\u001b[39;00m dem\u001b[38;5;241m>\u001b[39m\u001b[38;5;241m0\u001b[39m:\n\u001b[0;32m     11\u001b[0m     \u001b[38;5;28mprint\u001b[39m(\u001b[38;5;124mf\u001b[39m\u001b[38;5;124m\"\u001b[39m\u001b[38;5;124mco \u001b[39m\u001b[38;5;132;01m{\u001b[39;00mdem\u001b[38;5;132;01m}\u001b[39;00m\u001b[38;5;124m ptu nho hon 5\u001b[39m\u001b[38;5;124m\"\u001b[39m)\n\u001b[1;32m---> 12\u001b[0m     \u001b[38;5;28mprint\u001b[39m(\u001b[43mmang\u001b[49m\u001b[43m[\u001b[49m\u001b[43mi\u001b[49m\u001b[43m]\u001b[49m)\n\u001b[0;32m     13\u001b[0m \u001b[38;5;28;01melse\u001b[39;00m:\n\u001b[0;32m     14\u001b[0m     \u001b[38;5;28mprint\u001b[39m(\u001b[38;5;124m\"\u001b[39m\u001b[38;5;124mkhong co ptu nho hon 5\u001b[39m\u001b[38;5;124m\"\u001b[39m)\n",
      "\u001b[1;31mIndexError\u001b[0m: list index out of range"
     ]
    }
   ],
   "source": [
    "def bai4(n):\n",
    "    mang=[]\n",
    "    for i in range(n):\n",
    "        s=int(input(f\"nhap phan tu thu {i+1}\"))\n",
    "        mang.append(s)\n",
    "    dem=0\n",
    "    for i in mang:\n",
    "        if i<5:\n",
    "            dem=dem+1\n",
    "    if dem>0:\n",
    "        print(f\"co {dem} ptu nho hon 5\")\n",
    "        print(mang[i])\n",
    "    else:\n",
    "        print(\"khong co ptu nho hon 5\")\n",
    "    return mang \n",
    "            \n",
    "\n",
    "if __name__==\"__main__\":\n",
    "    n=int(input(\"nhap so phan tu: \"))\n",
    "    print(bai4(n))"
   ]
  },
  {
   "cell_type": "code",
   "execution_count": 16,
   "metadata": {},
   "outputs": [
    {
     "name": "stdout",
     "output_type": "stream",
     "text": [
      "034[4, 45, 67, 2, 2, 5]\n"
     ]
    }
   ],
   "source": [
    "def bai4(n):\n",
    "    mang=[]\n",
    "    for i in range(n):\n",
    "        s=int(input(f\"nhap phan tu thu {i+1}\"))\n",
    "        mang.append(s)\n",
    "    for i in range(len(mang)):\n",
    "        \n",
    "        if mang[i]<5:\n",
    "            print(i,end=' ')\n",
    "    return mang\n",
    "\n",
    "if __name__==\"__main__\":\n",
    "    n=int(input(\"nhap so phan tu: \"))\n",
    "    print(bai4(n))\n"
   ]
  },
  {
   "cell_type": "code",
   "execution_count": 23,
   "metadata": {},
   "outputs": [
    {
     "name": "stdout",
     "output_type": "stream",
     "text": [
      "2\n",
      "4\n",
      "[1, 2, 3, 4, 5]\n"
     ]
    }
   ],
   "source": [
    "def insolon2(n):\n",
    "    mang=[]\n",
    "    for i in range(n):\n",
    "        s=int(input(f\"nhap phan tu thu {i+1}\"))\n",
    "        mang.append(s)\n",
    "    for j in mang:\n",
    "        if j==max(mang):\n",
    "            print(j-1)\n",
    "        if j==min(mang):\n",
    "            print(j+1)\n",
    "    return mang\n",
    "if __name__==\"__main__\":\n",
    "    b=int(input(\"nhap so phan tu\"))\n",
    "    print(insolon2(b))"
   ]
  },
  {
   "cell_type": "markdown",
   "metadata": {},
   "source": [
    "+ mảng 2 chiều"
   ]
  },
  {
   "cell_type": "code",
   "execution_count": 34,
   "metadata": {},
   "outputs": [
    {
     "name": "stdout",
     "output_type": "stream",
     "text": [
      "1   3   4   \n",
      "3   4444 5   \n",
      "4   3   5555 \n"
     ]
    }
   ],
   "source": [
    "matrix=[\n",
    "    [1,3,4],\n",
    "    [3,4444,5],\n",
    "    [4,3,5555]\n",
    "]\n",
    "for i in matrix:\n",
    "    #print(i)\n",
    "    for j in i:\n",
    "        print(\"{:<3}\".format(j),end=' ')#can \n",
    "    print()"
   ]
  },
  {
   "cell_type": "code",
   "execution_count": 37,
   "metadata": {},
   "outputs": [
    {
     "name": "stdout",
     "output_type": "stream",
     "text": [
      "[[1, 1, 1, 1], [1, 1, 1, 1], [1, 1, 1, 1], [1, 1, 1, 1], [1, 1, 1, 1]]\n"
     ]
    }
   ],
   "source": [
    "cot=4\n",
    "hang=5\n",
    "lst=[[1]*cot]*hang\n",
    "print(lst)\n"
   ]
  },
  {
   "cell_type": "code",
   "execution_count": 50,
   "metadata": {},
   "outputs": [
    {
     "name": "stdout",
     "output_type": "stream",
     "text": [
      "12\t0\t7\t7\t0\t\n",
      "14\t16\t6\t15\t13\t\n",
      "18\t11\t20\t18\t18\t\n",
      "17\t14\t17\t7\t9\t\n"
     ]
    }
   ],
   "source": [
    "import random\n",
    "arr=[]\n",
    "dong=4\n",
    "cot=5\n",
    "for i in range(dong):\n",
    "    onerow=[]\n",
    "    for j in range(cot):\n",
    "        onerow.append(random.randrange(0,21))\n",
    "    arr.append(onerow)\n",
    "\n",
    "for i in range(len(arr)):\n",
    "    for j in range (len(arr[i])):\n",
    "        print(arr[i][j],end='\\t')\n",
    "    print()"
   ]
  },
  {
   "cell_type": "markdown",
   "metadata": {},
   "source": [
    "* viet chuong trinh nhap vao ma tran có m dong va n cot. các ptu ngẫu nhiên từ 1 đến 100\n",
    "1. xuất dòng bất kì\n",
    "2. xuất cột bất kì\n",
    "4. xuất só max trong ma trận  "
   ]
  },
  {
   "cell_type": "code",
   "execution_count": 2,
   "metadata": {},
   "outputs": [
    {
     "name": "stdout",
     "output_type": "stream",
     "text": [
      "27 73 43 27 \n",
      "16 56 2 28 \n",
      "47 13 44 35 \n"
     ]
    },
    {
     "ename": "NameError",
     "evalue": "name 'arr' is not defined",
     "output_type": "error",
     "traceback": [
      "\u001b[1;31m---------------------------------------------------------------------------\u001b[0m",
      "\u001b[1;31mNameError\u001b[0m                                 Traceback (most recent call last)",
      "Cell \u001b[1;32mIn[2], line 24\u001b[0m\n\u001b[0;32m     22\u001b[0m nhapmatran(colum,row)\n\u001b[0;32m     23\u001b[0m dong\u001b[38;5;241m=\u001b[39m\u001b[38;5;28mint\u001b[39m(\u001b[38;5;28minput\u001b[39m(\u001b[38;5;124m\"\u001b[39m\u001b[38;5;124mnhap gia tri index dong\u001b[39m\u001b[38;5;124m\"\u001b[39m))\n\u001b[1;32m---> 24\u001b[0m \u001b[43mxuatindexDong\u001b[49m\u001b[43m(\u001b[49m\u001b[43mdong\u001b[49m\u001b[43m)\u001b[49m\n",
      "Cell \u001b[1;32mIn[2], line 15\u001b[0m, in \u001b[0;36mxuatindexDong\u001b[1;34m(dong)\u001b[0m\n\u001b[0;32m     14\u001b[0m \u001b[38;5;28;01mdef\u001b[39;00m \u001b[38;5;21mxuatindexDong\u001b[39m(dong):\n\u001b[1;32m---> 15\u001b[0m     \u001b[38;5;28;01mfor\u001b[39;00m i \u001b[38;5;129;01min\u001b[39;00m \u001b[38;5;28mrange\u001b[39m(\u001b[38;5;28mlen\u001b[39m(\u001b[43marr\u001b[49m)):\n\u001b[0;32m     16\u001b[0m         \u001b[38;5;28;01mif\u001b[39;00m dong\u001b[38;5;241m==\u001b[39mi:\n\u001b[0;32m     17\u001b[0m             \u001b[38;5;28mprint\u001b[39m(\u001b[38;5;124m\"\u001b[39m\u001b[38;5;124mdong ban nhap: \u001b[39m\u001b[38;5;124m\"\u001b[39m,i)\n",
      "\u001b[1;31mNameError\u001b[0m: name 'arr' is not defined"
     ]
    }
   ],
   "source": [
    "import random\n",
    "def nhapmatran(row,colum):\n",
    "    arr=[]\n",
    "    for i in range(row):\n",
    "        one=[]\n",
    "        for j in range(colum):\n",
    "            one.append(random.randrange(1,100))\n",
    "        arr.append(one)\n",
    "    for i in range (len(arr)):\n",
    "        for j in range (len(arr[i])):\n",
    "            print(arr[i][j],end=\" \")\n",
    "        print()\n",
    "    for j in range(len(arr)):\n",
    "        if dong==i:\n",
    "            print(\"dong ban nhap: \",i)\n",
    "    return dong,arr\n",
    "if __name__==\"__main__\":\n",
    "    colum=int(input(\"nhap so cot: \"))\n",
    "    row=int(input(\"nhap so dong: \"))\n",
    "    nhapmatran(colum,row)\n",
    "    \n",
    "\n"
   ]
  },
  {
   "cell_type": "code",
   "execution_count": 3,
   "metadata": {},
   "outputs": [
    {
     "name": "stdout",
     "output_type": "stream",
     "text": [
      "94 64 77 43 \n",
      "16 26 87 9 \n",
      "62 76 69 85 \n",
      "9 45 52 47 \n",
      "9 7 55 40 \n",
      "dong ban nhap:  2\n",
      "Ma tran: [[94, 64, 77, 43], [16, 26, 87, 9], [62, 76, 69, 85], [9, 45, 52, 47], [9, 7, 55, 40]]\n",
      "Vi tri index cua dong la: 2\n"
     ]
    }
   ],
   "source": [
    "import random\n",
    "\n",
    "def nhapmatran(row, colum):\n",
    "    arr = []\n",
    "    for i in range(row):\n",
    "        one = []\n",
    "        for j in range(colum):\n",
    "            one.append(random.randrange(1, 100))\n",
    "        arr.append(one)\n",
    "    for i in range(len(arr)):\n",
    "        for j in range(len(arr[i])):\n",
    "            print(arr[i][j], end=\" \")\n",
    "        print()\n",
    "    dong = int(input(\"nhap so dong ban muon tim: \"))\n",
    "    for i in range(len(arr)):\n",
    "        if dong == i:\n",
    "            print(\"dong ban nhap: \", i)\n",
    "            return i, arr\n",
    "    print(\"Khong tim thay dong\")\n",
    "    return None, arr\n",
    "\n",
    "if __name__ == \"__main__\":\n",
    "    colum = int(input(\"nhap so cot: \"))\n",
    "    row = int(input(\"nhap so dong: \"))\n",
    "    index, matrix = nhapmatran(row, colum)\n",
    "    if index is not None:\n",
    "        print(\"Ma tran:\", matrix)\n",
    "        print(\"Vi tri index cua dong la:\", index)"
   ]
  }
 ],
 "metadata": {
  "kernelspec": {
   "display_name": "Python 3",
   "language": "python",
   "name": "python3"
  },
  "language_info": {
   "codemirror_mode": {
    "name": "ipython",
    "version": 3
   },
   "file_extension": ".py",
   "mimetype": "text/x-python",
   "name": "python",
   "nbconvert_exporter": "python",
   "pygments_lexer": "ipython3",
   "version": "3.11.5"
  }
 },
 "nbformat": 4,
 "nbformat_minor": 2
}
