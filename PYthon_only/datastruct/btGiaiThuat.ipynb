{
 "cells": [
  {
   "cell_type": "code",
   "execution_count": 1,
   "metadata": {},
   "outputs": [
    {
     "name": "stdout",
     "output_type": "stream",
     "text": [
      "4\n"
     ]
    }
   ],
   "source": [
    "def timuocchung(x,y,k):\n",
    "    smaller=min(x,y)\n",
    "    count = 1\n",
    "    for i in range(2,smaller+1):\n",
    "        if(x%i==0 and y%i==0):\n",
    "            count+=1\n",
    "        if(count==k):\n",
    "            return i\n",
    "    return -1\n",
    "\n",
    "x=int(input(\"nhap so thu 1: \"))\n",
    "y=int(input(\"nhap so thu 2: \"))\n",
    "k=int(input(\"nhap uoc chung thu: \"))\n",
    "print(timuocchung(x,y,k))\n"
   ]
  },
  {
   "cell_type": "code",
   "execution_count": null,
   "metadata": {},
   "outputs": [],
   "source": [
    "n=int(input('nhap so: '))\n",
    "def factorial(n):\n",
    "    if n == 0 or n == 1:\n",
    "        return 1\n",
    "    else:\n",
    "        return n * factorial(n-1)\n",
    "for i in range (1,9):\n",
    "    if ()"
   ]
  }
 ],
 "metadata": {
  "kernelspec": {
   "display_name": "Python 3",
   "language": "python",
   "name": "python3"
  },
  "language_info": {
   "codemirror_mode": {
    "name": "ipython",
    "version": 3
   },
   "file_extension": ".py",
   "mimetype": "text/x-python",
   "name": "python",
   "nbconvert_exporter": "python",
   "pygments_lexer": "ipython3",
   "version": "3.11.4"
  },
  "orig_nbformat": 4
 },
 "nbformat": 4,
 "nbformat_minor": 2
}
