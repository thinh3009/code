{
 "cells": [
  {
   "cell_type": "code",
   "execution_count": 1,
   "metadata": {},
   "outputs": [
    {
     "name": "stdout",
     "output_type": "stream",
     "text": [
      "hello\n"
     ]
    }
   ],
   "source": [
    "print('hello')"
   ]
  },
  {
   "cell_type": "code",
   "execution_count": 2,
   "metadata": {},
   "outputs": [
    {
     "name": "stdout",
     "output_type": "stream",
     "text": [
      "Package           Version\n",
      "----------------- -----------\n",
      "asttokens         2.4.1\n",
      "colorama          0.4.6\n",
      "comm              0.2.2\n",
      "debugpy           1.8.1\n",
      "decorator         5.1.1\n",
      "executing         2.0.1\n",
      "ipykernel         6.29.4\n",
      "ipython           8.24.0\n",
      "jedi              0.19.1\n",
      "jupyter_client    8.6.1\n",
      "jupyter_core      5.7.2\n",
      "matplotlib-inline 0.1.7\n",
      "nest-asyncio      1.6.0\n",
      "packaging         24.0\n",
      "parso             0.8.4\n",
      "pip               24.0\n",
      "platformdirs      4.2.1\n",
      "prompt-toolkit    3.0.43\n",
      "psutil            5.9.8\n",
      "pure-eval         0.2.2\n",
      "Pygments          2.17.2\n",
      "python-dateutil   2.9.0.post0\n",
      "pywin32           306\n",
      "pyzmq             26.0.3\n",
      "setuptools        65.5.0\n",
      "six               1.16.0\n",
      "stack-data        0.6.3\n",
      "tornado           6.4\n",
      "traitlets         5.14.3\n",
      "typing_extensions 4.11.0\n",
      "wcwidth           0.2.13\n"
     ]
    }
   ],
   "source": [
    "!pip list"
   ]
  },
  {
   "cell_type": "code",
   "execution_count": 3,
   "metadata": {},
   "outputs": [
    {
     "name": "stderr",
     "output_type": "stream",
     "text": [
      "ERROR: Could not find a version that satisfies the requirement beatifulsoup4 (from versions: none)\n",
      "ERROR: No matching distribution found for beatifulsoup4\n"
     ]
    }
   ],
   "source": [
    "!pip install beatifulsoup4"
   ]
  },
  {
   "cell_type": "code",
   "execution_count": 4,
   "metadata": {},
   "outputs": [
    {
     "name": "stdout",
     "output_type": "stream",
     "text": [
      "Requirement already satisfied: pip in c:\\users\\20h1120258-bùiđứcthị\\appdata\\local\\programs\\python\\python311\\lib\\site-packages (24.0)\n"
     ]
    }
   ],
   "source": [
    "!python -m pip install --upgrade pip"
   ]
  },
  {
   "cell_type": "code",
   "execution_count": 5,
   "metadata": {},
   "outputs": [
    {
     "name": "stdout",
     "output_type": "stream",
     "text": [
      "Collecting beautifulsoup4\n",
      "  Downloading beautifulsoup4-4.12.3-py3-none-any.whl.metadata (3.8 kB)\n",
      "Collecting soupsieve>1.2 (from beautifulsoup4)\n",
      "  Downloading soupsieve-2.5-py3-none-any.whl.metadata (4.7 kB)\n",
      "Downloading beautifulsoup4-4.12.3-py3-none-any.whl (147 kB)\n",
      "   ---------------------------------------- 0.0/147.9 kB ? eta -:--:--\n",
      "   ---------------------------------------- 0.0/147.9 kB ? eta -:--:--\n",
      "   -- ------------------------------------- 10.2/147.9 kB ? eta -:--:--\n",
      "   ---------- ---------------------------- 41.0/147.9 kB 326.8 kB/s eta 0:00:01\n",
      "   ---------------------------- --------- 112.6/147.9 kB 731.4 kB/s eta 0:00:01\n",
      "   ------------------------------------ - 143.4/147.9 kB 853.3 kB/s eta 0:00:01\n",
      "   -------------------------------------- 147.9/147.9 kB 628.7 kB/s eta 0:00:00\n",
      "Downloading soupsieve-2.5-py3-none-any.whl (36 kB)\n",
      "Installing collected packages: soupsieve, beautifulsoup4\n",
      "Successfully installed beautifulsoup4-4.12.3 soupsieve-2.5\n"
     ]
    }
   ],
   "source": [
    "!pip install beautifulsoup4"
   ]
  },
  {
   "cell_type": "code",
   "execution_count": 6,
   "metadata": {},
   "outputs": [
    {
     "name": "stdout",
     "output_type": "stream",
     "text": [
      "Collecting lxml\n",
      "  Downloading lxml-5.2.1-cp311-cp311-win_amd64.whl.metadata (3.5 kB)\n",
      "Downloading lxml-5.2.1-cp311-cp311-win_amd64.whl (3.8 MB)\n",
      "   ---------------------------------------- 0.0/3.8 MB ? eta -:--:--\n",
      "   ---------------------------------------- 0.0/3.8 MB 1.3 MB/s eta 0:00:03\n",
      "    --------------------------------------- 0.1/3.8 MB 1.1 MB/s eta 0:00:04\n",
      "   - -------------------------------------- 0.2/3.8 MB 1.1 MB/s eta 0:00:04\n",
      "   - -------------------------------------- 0.2/3.8 MB 1.1 MB/s eta 0:00:04\n",
      "   -- ------------------------------------- 0.3/3.8 MB 1.2 MB/s eta 0:00:04\n",
      "   --- ------------------------------------ 0.3/3.8 MB 1.2 MB/s eta 0:00:04\n",
      "   ---- ----------------------------------- 0.4/3.8 MB 1.3 MB/s eta 0:00:03\n",
      "   ---- ----------------------------------- 0.4/3.8 MB 1.3 MB/s eta 0:00:03\n",
      "   ---- ----------------------------------- 0.5/3.8 MB 1.1 MB/s eta 0:00:04\n",
      "   ------ --------------------------------- 0.6/3.8 MB 1.3 MB/s eta 0:00:03\n",
      "   ------ --------------------------------- 0.6/3.8 MB 1.3 MB/s eta 0:00:03\n",
      "   ------- -------------------------------- 0.7/3.8 MB 1.2 MB/s eta 0:00:03\n",
      "   ------- -------------------------------- 0.7/3.8 MB 1.2 MB/s eta 0:00:03\n",
      "   --------- ------------------------------ 0.9/3.8 MB 1.3 MB/s eta 0:00:03\n",
      "   ---------- ----------------------------- 1.0/3.8 MB 1.3 MB/s eta 0:00:03\n",
      "   ---------- ----------------------------- 1.0/3.8 MB 1.3 MB/s eta 0:00:03\n",
      "   ---------- ----------------------------- 1.0/3.8 MB 1.1 MB/s eta 0:00:03\n",
      "   ---------- ----------------------------- 1.0/3.8 MB 1.1 MB/s eta 0:00:03\n",
      "   ------------ --------------------------- 1.1/3.8 MB 1.2 MB/s eta 0:00:03\n",
      "   ------------ --------------------------- 1.2/3.8 MB 1.0 MB/s eta 0:00:03\n",
      "   -------------- ------------------------- 1.4/3.8 MB 1.2 MB/s eta 0:00:03\n",
      "   --------------- ------------------------ 1.5/3.8 MB 1.2 MB/s eta 0:00:02\n",
      "   ---------------- ----------------------- 1.6/3.8 MB 1.2 MB/s eta 0:00:02\n",
      "   ---------------- ----------------------- 1.6/3.8 MB 1.2 MB/s eta 0:00:02\n",
      "   ---------------- ----------------------- 1.6/3.8 MB 1.2 MB/s eta 0:00:02\n",
      "   ---------------- ----------------------- 1.6/3.8 MB 1.1 MB/s eta 0:00:02\n",
      "   ------------------ --------------------- 1.8/3.8 MB 1.2 MB/s eta 0:00:02\n",
      "   -------------------- ------------------- 1.9/3.8 MB 1.3 MB/s eta 0:00:02\n",
      "   -------------------- ------------------- 2.0/3.8 MB 1.2 MB/s eta 0:00:02\n",
      "   ---------------------- ----------------- 2.1/3.8 MB 1.3 MB/s eta 0:00:02\n",
      "   ----------------------- ---------------- 2.2/3.8 MB 1.3 MB/s eta 0:00:02\n",
      "   ----------------------- ---------------- 2.3/3.8 MB 1.3 MB/s eta 0:00:02\n",
      "   ----------------------- ---------------- 2.3/3.8 MB 1.3 MB/s eta 0:00:02\n",
      "   ------------------------- -------------- 2.4/3.8 MB 1.3 MB/s eta 0:00:02\n",
      "   --------------------------- ------------ 2.7/3.8 MB 1.2 MB/s eta 0:00:01\n",
      "   ---------------------------------- ----- 3.3/3.8 MB 1.4 MB/s eta 0:00:01\n",
      "   ------------------------------------ --- 3.5/3.8 MB 1.4 MB/s eta 0:00:01\n",
      "   -------------------------------------- - 3.7/3.8 MB 1.4 MB/s eta 0:00:01\n",
      "   ---------------------------------------- 3.8/3.8 MB 1.3 MB/s eta 0:00:00\n",
      "Installing collected packages: lxml\n",
      "Successfully installed lxml-5.2.1\n"
     ]
    }
   ],
   "source": [
    "!pip install lxml"
   ]
  },
  {
   "cell_type": "code",
   "execution_count": 11,
   "metadata": {},
   "outputs": [
    {
     "name": "stdout",
     "output_type": "stream",
     "text": [
      "<!DOCTYPE html>\n",
      "<html lang=\"en\">\n",
      " <head>\n",
      "  <meta charset=\"utf-8\"/>\n",
      "  <meta content=\"width=device-width, initial-scale=1, shrink-to-fit=no\" name=\"viewport\"/>\n",
      "  <link crossorigin=\"anonymous\" href=\"https://stackpath.bootstrapcdn.com/bootstrap/4.5.2/css/bootstrap.min.css\" integrity=\"sha384-JcKb8q3iqJ61gNV9KGb8thSsNjpSL0n8PARn9HuZOnIxN0hoP+VmmDGMN5t9UJ0Z\" rel=\"stylesheet\"/>\n",
      "  <title>\n",
      "   My Courses\n",
      "  </title>\n",
      " </head>\n",
      " <body>\n",
      "  <h1>\n",
      "   Hello, Start Learning!\n",
      "  </h1>\n",
      "  <div class=\"card\" id=\"card-python-for-beginners\">\n",
      "   <div class=\"card-header\">\n",
      "    Python\n",
      "   </div>\n",
      "   <div class=\"card-body\">\n",
      "    <h5 class=\"card-title\">\n",
      "     Python for beginners\n",
      "    </h5>\n",
      "    <p class=\"card-text\">\n",
      "     If you are new to Python, this is the course that you should buy!\n",
      "    </p>\n",
      "    <a class=\"btn btn-primary\" href=\"#\">\n",
      "     Start for 20$\n",
      "    </a>\n",
      "   </div>\n",
      "  </div>\n",
      "  <div class=\"card\" id=\"card-python-web-development\">\n",
      "   <div class=\"card-header\">\n",
      "    Python\n",
      "   </div>\n",
      "   <div class=\"card-body\">\n",
      "    <h5 class=\"card-title\">\n",
      "     Python Web Development\n",
      "    </h5>\n",
      "    <p class=\"card-text\">\n",
      "     If you feel enough confident with python, you are ready to learn how to create your own website!\n",
      "    </p>\n",
      "    <a class=\"btn btn-primary\" href=\"#\">\n",
      "     Start for 50$\n",
      "    </a>\n",
      "   </div>\n",
      "  </div>\n",
      "  <div class=\"card\" id=\"card-python-machine-learning\">\n",
      "   <div class=\"card-header\">\n",
      "    Python\n",
      "   </div>\n",
      "   <div class=\"card-body\">\n",
      "    <h5 class=\"card-title\">\n",
      "     Python Machine Learning\n",
      "    </h5>\n",
      "    <p class=\"card-text\">\n",
      "     Become a Python Machine Learning master!\n",
      "    </p>\n",
      "    <a class=\"btn btn-primary\" href=\"#\">\n",
      "     Start for 100$\n",
      "    </a>\n",
      "   </div>\n",
      "  </div>\n",
      " </body>\n",
      "</html>\n",
      "\n"
     ]
    }
   ],
   "source": [
    "from bs4 import BeautifulSoup\n",
    "with open('home.html','r') as html_file:\n",
    "    content=html_file.read()\n",
    "    \n",
    "    soup=BeautifulSoup(content, 'lxml')\n",
    "    "
   ]
  },
  {
   "cell_type": "code",
   "execution_count": 12,
   "metadata": {},
   "outputs": [
    {
     "name": "stdout",
     "output_type": "stream",
     "text": [
      "<h5 class=\"card-title\">Python for beginners</h5>\n"
     ]
    }
   ],
   "source": [
    "tags=soup.find('h5')#tim tags html\n",
    "print(tags)"
   ]
  },
  {
   "cell_type": "code",
   "execution_count": 15,
   "metadata": {},
   "outputs": [
    {
     "name": "stdout",
     "output_type": "stream",
     "text": [
      "Python for beginners\n",
      "Python Web Development\n",
      "Python Machine Learning\n"
     ]
    }
   ],
   "source": [
    "tags=soup.find_all('h5')#tim tags html\n",
    "for i in tags:\n",
    "    print(i.text)#them text de print gia tri tags h5\n"
   ]
  },
  {
   "cell_type": "code",
   "execution_count": 18,
   "metadata": {},
   "outputs": [
    {
     "name": "stdout",
     "output_type": "stream",
     "text": [
      "<div class=\"card\" id=\"card-python-for-beginners\">\n",
      "<div class=\"card-header\">\n",
      "            Python\n",
      "         </div>\n",
      "<div class=\"card-body\">\n",
      "<h5 class=\"card-title\">Python for beginners</h5>\n",
      "<p class=\"card-text\">If you are new to Python, this is the course that you should buy!</p>\n",
      "<a class=\"btn btn-primary\" href=\"#\">Start for 20$</a>\n",
      "</div>\n",
      "</div>\n",
      "<div class=\"card\" id=\"card-python-web-development\">\n",
      "<div class=\"card-header\">\n",
      "            Python\n",
      "         </div>\n",
      "<div class=\"card-body\">\n",
      "<h5 class=\"card-title\">Python Web Development</h5>\n",
      "<p class=\"card-text\">If you feel enough confident with python, you are ready to learn how to create your own website!</p>\n",
      "<a class=\"btn btn-primary\" href=\"#\">Start for 50$</a>\n",
      "</div>\n",
      "</div>\n",
      "<div class=\"card\" id=\"card-python-machine-learning\">\n",
      "<div class=\"card-header\">\n",
      "            Python\n",
      "         </div>\n",
      "<div class=\"card-body\">\n",
      "<h5 class=\"card-title\">Python Machine Learning</h5>\n",
      "<p class=\"card-text\">Become a Python Machine Learning master!</p>\n",
      "<a class=\"btn btn-primary\" href=\"#\">Start for 100$</a>\n",
      "</div>\n",
      "</div>\n"
     ]
    }
   ],
   "source": [
    "course_cards=soup.find_all('div',class_='card')#gach ngang class card\n",
    "for course in course_cards:\n",
    "    print(course)"
   ]
  },
  {
   "cell_type": "code",
   "execution_count": 23,
   "metadata": {},
   "outputs": [
    {
     "name": "stdout",
     "output_type": "stream",
     "text": [
      "Python for beginners\n",
      "20$\n",
      "Python for beginners cost 20$\n",
      "Python Web Development\n",
      "50$\n",
      "Python Web Development cost 50$\n",
      "Python Machine Learning\n",
      "100$\n",
      "Python Machine Learning cost 100$\n"
     ]
    }
   ],
   "source": [
    "course_cards=soup.find_all('div',class_='card')#gach ngang class card\n",
    "for course in course_cards:\n",
    "    course_name=course.h5.text\n",
    "    course_price=course.a.text.split()[-1]\n",
    "\n",
    "    print(course_name)\n",
    "    print(course_price)\n",
    "    \n",
    "    print(f'{course_name} cost {course_price}')\n"
   ]
  },
  {
   "cell_type": "code",
   "execution_count": 22,
   "metadata": {},
   "outputs": [
    {
     "name": "stdout",
     "output_type": "stream",
     "text": [
      "Python Machine Learning cost 100$\n"
     ]
    }
   ],
   "source": []
  },
  {
   "cell_type": "code",
   "execution_count": null,
   "metadata": {},
   "outputs": [],
   "source": []
  }
 ],
 "metadata": {
  "kernelspec": {
   "display_name": "Python 3",
   "language": "python",
   "name": "python3"
  },
  "language_info": {
   "codemirror_mode": {
    "name": "ipython",
    "version": 3
   },
   "file_extension": ".py",
   "mimetype": "text/x-python",
   "name": "python",
   "nbconvert_exporter": "python",
   "pygments_lexer": "ipython3",
   "version": "3.11.9"
  }
 },
 "nbformat": 4,
 "nbformat_minor": 2
}
